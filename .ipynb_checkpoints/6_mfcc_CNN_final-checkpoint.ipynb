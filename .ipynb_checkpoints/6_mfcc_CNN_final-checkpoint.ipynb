{
 "cells": [
  {
   "cell_type": "markdown",
   "id": "f4cc6936",
   "metadata": {},
   "source": [
    "# Import Libaries"
   ]
  },
  {
   "cell_type": "code",
   "execution_count": 1,
   "id": "d86e7bff",
   "metadata": {},
   "outputs": [],
   "source": [
    "import pandas as pd\n",
    "import numpy as np\n",
    "import matplotlib.pyplot as plt\n",
    "\n",
    "from sklearn.metrics import accuracy_score\n",
    "from sklearn.model_selection import train_test_split\n",
    "from sklearn.preprocessing import OneHotEncoder\n",
    "from sklearn.metrics import confusion_matrix\n",
    "from sklearn.metrics import plot_confusion_matrix\n",
    "from sklearn.metrics import classification_report\n",
    "\n",
    "import seaborn as sns"
   ]
  },
  {
   "cell_type": "code",
   "execution_count": 2,
   "id": "722a9601",
   "metadata": {},
   "outputs": [],
   "source": [
    "import tensorflow as tf"
   ]
  },
  {
   "cell_type": "code",
   "execution_count": 3,
   "id": "7a662774",
   "metadata": {},
   "outputs": [],
   "source": [
    "# Keras\n",
    "import keras\n",
    "from keras.models import Sequential, Model, model_from_json\n",
    "from keras.layers import Dense, Embedding, LSTM\n",
    "from keras.layers import Input, Flatten, Dropout, Activation, BatchNormalization\n",
    "from keras.layers import Conv1D, MaxPooling1D, AveragePooling1D\n",
    "from keras.callbacks import EarlyStopping"
   ]
  },
  {
   "cell_type": "code",
   "execution_count": 4,
   "id": "b7bcb187",
   "metadata": {},
   "outputs": [],
   "source": [
    "features = np.loadtxt('data/2d_mfcc/features.txt')\n",
    "features = features.reshape((7442, 216, 17))"
   ]
  },
  {
   "cell_type": "code",
   "execution_count": 5,
   "id": "e2c64049",
   "metadata": {},
   "outputs": [],
   "source": [
    "targets = np.loadtxt('data/2d_mfcc/targets.txt')"
   ]
  },
  {
   "cell_type": "code",
   "execution_count": 6,
   "id": "8c59d34a",
   "metadata": {},
   "outputs": [],
   "source": [
    "X_train, X_test, y_train, y_test = train_test_split(features\n",
    "                                                    , targets\n",
    "                                                    , test_size=0.2\n",
    "                                                    , random_state=1\n",
    "                                                   )"
   ]
  },
  {
   "cell_type": "code",
   "execution_count": 7,
   "id": "165ee215",
   "metadata": {},
   "outputs": [
    {
     "name": "stdout",
     "output_type": "stream",
     "text": [
      "X_train shape: (5953, 216, 17)\n",
      "y_train shape: (5953, 6)\n",
      "X_test shape: (1489, 216, 17)\n",
      "y_test shape: (1489, 6)\n",
      "X_train %: 0.7999193765116904\n",
      "X_test %: 0.2000806234883096\n"
     ]
    }
   ],
   "source": [
    "# Check out the data\n",
    "print(f'X_train shape: {X_train.shape}')\n",
    "print(f'y_train shape: {y_train.shape}')\n",
    "print(f'X_test shape: {X_test.shape}')\n",
    "print(f'y_test shape: {y_test.shape}')\n",
    "print(f'X_train %: {X_train.shape[0] / (X_train.shape[0] + X_test.shape[0])}')\n",
    "print(f'X_test %: {X_test.shape[0] / (X_train.shape[0] + X_test.shape[0])}')"
   ]
  },
  {
   "cell_type": "markdown",
   "id": "5a2373ba",
   "metadata": {},
   "source": [
    "# Build Model"
   ]
  },
  {
   "cell_type": "code",
   "execution_count": 8,
   "id": "aa3412c2",
   "metadata": {},
   "outputs": [
    {
     "name": "stdout",
     "output_type": "stream",
     "text": [
      "Model: \"sequential\"\n",
      "_________________________________________________________________\n",
      "Layer (type)                 Output Shape              Param #   \n",
      "=================================================================\n",
      "conv1d (Conv1D)              (None, 216, 256)          35072     \n",
      "_________________________________________________________________\n",
      "activation (Activation)      (None, 216, 256)          0         \n",
      "_________________________________________________________________\n",
      "conv1d_1 (Conv1D)            (None, 216, 256)          524544    \n",
      "_________________________________________________________________\n",
      "batch_normalization (BatchNo (None, 216, 256)          1024      \n",
      "_________________________________________________________________\n",
      "activation_1 (Activation)    (None, 216, 256)          0         \n",
      "_________________________________________________________________\n",
      "dropout (Dropout)            (None, 216, 256)          0         \n",
      "_________________________________________________________________\n",
      "max_pooling1d (MaxPooling1D) (None, 27, 256)           0         \n",
      "_________________________________________________________________\n",
      "conv1d_2 (Conv1D)            (None, 27, 128)           262272    \n",
      "_________________________________________________________________\n",
      "activation_2 (Activation)    (None, 27, 128)           0         \n",
      "_________________________________________________________________\n",
      "conv1d_3 (Conv1D)            (None, 27, 128)           131200    \n",
      "_________________________________________________________________\n",
      "activation_3 (Activation)    (None, 27, 128)           0         \n",
      "_________________________________________________________________\n",
      "conv1d_4 (Conv1D)            (None, 27, 128)           131200    \n",
      "_________________________________________________________________\n",
      "activation_4 (Activation)    (None, 27, 128)           0         \n",
      "_________________________________________________________________\n",
      "conv1d_5 (Conv1D)            (None, 27, 128)           131200    \n",
      "_________________________________________________________________\n",
      "batch_normalization_1 (Batch (None, 27, 128)           512       \n",
      "_________________________________________________________________\n",
      "activation_5 (Activation)    (None, 27, 128)           0         \n",
      "_________________________________________________________________\n",
      "dropout_1 (Dropout)          (None, 27, 128)           0         \n",
      "_________________________________________________________________\n",
      "max_pooling1d_1 (MaxPooling1 (None, 3, 128)            0         \n",
      "_________________________________________________________________\n",
      "conv1d_6 (Conv1D)            (None, 3, 64)             65600     \n",
      "_________________________________________________________________\n",
      "activation_6 (Activation)    (None, 3, 64)             0         \n",
      "_________________________________________________________________\n",
      "conv1d_7 (Conv1D)            (None, 3, 64)             32832     \n",
      "_________________________________________________________________\n",
      "activation_7 (Activation)    (None, 3, 64)             0         \n",
      "_________________________________________________________________\n",
      "flatten (Flatten)            (None, 192)               0         \n",
      "_________________________________________________________________\n",
      "dense (Dense)                (None, 6)                 1158      \n",
      "_________________________________________________________________\n",
      "activation_8 (Activation)    (None, 6)                 0         \n",
      "=================================================================\n",
      "Total params: 1,316,614\n",
      "Trainable params: 1,315,846\n",
      "Non-trainable params: 768\n",
      "_________________________________________________________________\n"
     ]
    }
   ],
   "source": [
    "# New model\n",
    "lr = 0.00001\n",
    "model = Sequential()\n",
    "model.add(Conv1D(256, 8, padding='same',input_shape=(X_train.shape[1], X_train.shape[2])))\n",
    "model.add(Activation('relu'))\n",
    "\n",
    "model.add(Conv1D(256, 8, padding='same'))\n",
    "model.add(BatchNormalization())\n",
    "model.add(Activation('relu'))\n",
    "model.add(Dropout(0.25))\n",
    "model.add(MaxPooling1D(pool_size=(8)))\n",
    "\n",
    "model.add(Conv1D(128, 8, padding='same'))\n",
    "model.add(Activation('relu'))\n",
    "\n",
    "model.add(Conv1D(128, 8, padding='same'))\n",
    "model.add(Activation('relu'))\n",
    "\n",
    "model.add(Conv1D(128, 8, padding='same'))\n",
    "model.add(Activation('relu'))\n",
    "\n",
    "model.add(Conv1D(128, 8, padding='same'))\n",
    "model.add(BatchNormalization())\n",
    "model.add(Activation('relu'))\n",
    "model.add(Dropout(0.25))\n",
    "model.add(MaxPooling1D(pool_size=(8)))\n",
    "\n",
    "model.add(Conv1D(64, 8, padding='same'))\n",
    "model.add(Activation('relu'))\n",
    "\n",
    "model.add(Conv1D(64, 8, padding='same'))\n",
    "model.add(Activation('relu'))\n",
    "\n",
    "model.add(Flatten())\n",
    "model.add(Dense(6))\n",
    "model.add(Activation('softmax'))\n",
    "opt = keras.optimizers.RMSprop(lr=lr, decay=1e-6)\n",
    "model.compile(loss='categorical_crossentropy', optimizer=opt, metrics=['accuracy'])\n",
    "model.summary()"
   ]
  },
  {
   "cell_type": "markdown",
   "id": "4578c3b5",
   "metadata": {},
   "source": [
    "# Model Fit"
   ]
  },
  {
   "cell_type": "code",
   "execution_count": 9,
   "id": "e20fe61f",
   "metadata": {},
   "outputs": [
    {
     "name": "stdout",
     "output_type": "stream",
     "text": [
      "Epoch 1/50\n",
      "633/633 [==============================] - 62s 95ms/step - loss: 1.7364 - accuracy: 0.2449 - val_loss: 1.5876 - val_accuracy: 0.3875\n",
      "Epoch 2/50\n",
      "633/633 [==============================] - 60s 95ms/step - loss: 1.5221 - accuracy: 0.3835 - val_loss: 1.4974 - val_accuracy: 0.3975\n",
      "Epoch 3/50\n",
      "633/633 [==============================] - 59s 94ms/step - loss: 1.4513 - accuracy: 0.4103 - val_loss: 1.4516 - val_accuracy: 0.4155\n",
      "Epoch 4/50\n",
      "633/633 [==============================] - 60s 94ms/step - loss: 1.4395 - accuracy: 0.4098 - val_loss: 1.4300 - val_accuracy: 0.4155\n",
      "Epoch 5/50\n",
      "633/633 [==============================] - 60s 95ms/step - loss: 1.3797 - accuracy: 0.4466 - val_loss: 1.4647 - val_accuracy: 0.3830\n",
      "Epoch 6/50\n",
      "633/633 [==============================] - 65s 103ms/step - loss: 1.3615 - accuracy: 0.4573 - val_loss: 1.4128 - val_accuracy: 0.4244\n",
      "Epoch 7/50\n",
      "633/633 [==============================] - 58s 91ms/step - loss: 1.3457 - accuracy: 0.4667 - val_loss: 1.4541 - val_accuracy: 0.3987\n",
      "Epoch 8/50\n",
      "633/633 [==============================] - 58s 92ms/step - loss: 1.3350 - accuracy: 0.4621 - val_loss: 1.3998 - val_accuracy: 0.4244\n",
      "Epoch 9/50\n",
      "633/633 [==============================] - 56s 89ms/step - loss: 1.3029 - accuracy: 0.4860 - val_loss: 1.3832 - val_accuracy: 0.4255\n",
      "Epoch 10/50\n",
      "633/633 [==============================] - 63s 100ms/step - loss: 1.3086 - accuracy: 0.4876 - val_loss: 1.4260 - val_accuracy: 0.4166\n",
      "Epoch 11/50\n",
      "633/633 [==============================] - 60s 95ms/step - loss: 1.2860 - accuracy: 0.4993 - val_loss: 1.3756 - val_accuracy: 0.4468\n",
      "Epoch 12/50\n",
      "633/633 [==============================] - 59s 93ms/step - loss: 1.2569 - accuracy: 0.4930 - val_loss: 1.4107 - val_accuracy: 0.4110\n",
      "Epoch 13/50\n",
      "633/633 [==============================] - 63s 100ms/step - loss: 1.2473 - accuracy: 0.5092 - val_loss: 1.3553 - val_accuracy: 0.4479\n",
      "Epoch 14/50\n",
      "633/633 [==============================] - 57s 90ms/step - loss: 1.2461 - accuracy: 0.5112 - val_loss: 1.3691 - val_accuracy: 0.4278\n",
      "Epoch 15/50\n",
      "633/633 [==============================] - 57s 90ms/step - loss: 1.2198 - accuracy: 0.5308 - val_loss: 1.3310 - val_accuracy: 0.4569\n",
      "Epoch 16/50\n",
      "633/633 [==============================] - 78s 124ms/step - loss: 1.1942 - accuracy: 0.5217 - val_loss: 1.3446 - val_accuracy: 0.4546\n",
      "Epoch 17/50\n",
      "633/633 [==============================] - 66s 104ms/step - loss: 1.1883 - accuracy: 0.5309 - val_loss: 1.3405 - val_accuracy: 0.4535\n",
      "Epoch 18/50\n",
      "633/633 [==============================] - 66s 104ms/step - loss: 1.1816 - accuracy: 0.5290 - val_loss: 1.2988 - val_accuracy: 0.4692\n",
      "Epoch 19/50\n",
      "633/633 [==============================] - 65s 103ms/step - loss: 1.1652 - accuracy: 0.5487 - val_loss: 1.3945 - val_accuracy: 0.4099\n",
      "Epoch 20/50\n",
      "633/633 [==============================] - 61s 97ms/step - loss: 1.1486 - accuracy: 0.5515 - val_loss: 1.4182 - val_accuracy: 0.4065\n",
      "Epoch 21/50\n",
      "633/633 [==============================] - 65s 103ms/step - loss: 1.1415 - accuracy: 0.5550 - val_loss: 1.4150 - val_accuracy: 0.4323\n",
      "Epoch 22/50\n",
      "633/633 [==============================] - 68s 108ms/step - loss: 1.1240 - accuracy: 0.5593 - val_loss: 1.3513 - val_accuracy: 0.4546\n",
      "Epoch 23/50\n",
      "633/633 [==============================] - 59s 94ms/step - loss: 1.1127 - accuracy: 0.5622 - val_loss: 1.3724 - val_accuracy: 0.4367\n",
      "Epoch 24/50\n",
      "633/633 [==============================] - 57s 90ms/step - loss: 1.1107 - accuracy: 0.5671 - val_loss: 1.3297 - val_accuracy: 0.4636\n",
      "Epoch 25/50\n",
      "633/633 [==============================] - 61s 97ms/step - loss: 1.0829 - accuracy: 0.5897 - val_loss: 1.3063 - val_accuracy: 0.4602\n",
      "Epoch 26/50\n",
      "633/633 [==============================] - 61s 97ms/step - loss: 1.0766 - accuracy: 0.5858 - val_loss: 1.2689 - val_accuracy: 0.4894\n",
      "Epoch 27/50\n",
      "633/633 [==============================] - 59s 93ms/step - loss: 1.0712 - accuracy: 0.5726 - val_loss: 1.3660 - val_accuracy: 0.4367\n",
      "Epoch 28/50\n",
      "633/633 [==============================] - 64s 102ms/step - loss: 1.0271 - accuracy: 0.6035 - val_loss: 1.4264 - val_accuracy: 0.4065\n",
      "Epoch 29/50\n",
      "633/633 [==============================] - 84s 133ms/step - loss: 1.0342 - accuracy: 0.6003 - val_loss: 1.3137 - val_accuracy: 0.4569\n",
      "Epoch 30/50\n",
      "633/633 [==============================] - 76s 121ms/step - loss: 1.0132 - accuracy: 0.6107 - val_loss: 1.4021 - val_accuracy: 0.4300\n",
      "Epoch 31/50\n",
      "633/633 [==============================] - 77s 121ms/step - loss: 1.0320 - accuracy: 0.6011 - val_loss: 1.3510 - val_accuracy: 0.4546\n",
      "Epoch 32/50\n",
      "633/633 [==============================] - 94s 149ms/step - loss: 1.0005 - accuracy: 0.6133 - val_loss: 1.2853 - val_accuracy: 0.4737\n",
      "Epoch 33/50\n",
      "633/633 [==============================] - 78s 124ms/step - loss: 1.0162 - accuracy: 0.6163 - val_loss: 1.2929 - val_accuracy: 0.4782\n",
      "Epoch 34/50\n",
      "633/633 [==============================] - 70s 111ms/step - loss: 0.9987 - accuracy: 0.6168 - val_loss: 1.2914 - val_accuracy: 0.4759\n",
      "Epoch 35/50\n",
      "633/633 [==============================] - 69s 109ms/step - loss: 0.9714 - accuracy: 0.6347 - val_loss: 1.3180 - val_accuracy: 0.4658\n",
      "Epoch 36/50\n",
      "633/633 [==============================] - 70s 111ms/step - loss: 0.9532 - accuracy: 0.6337 - val_loss: 1.4311 - val_accuracy: 0.4334\n",
      "Epoch 37/50\n",
      "633/633 [==============================] - 89s 141ms/step - loss: 0.9120 - accuracy: 0.6430 - val_loss: 1.2983 - val_accuracy: 0.4927\n",
      "Epoch 38/50\n",
      "633/633 [==============================] - 106s 168ms/step - loss: 0.9549 - accuracy: 0.6453 - val_loss: 1.4121 - val_accuracy: 0.4378\n",
      "Epoch 39/50\n",
      "633/633 [==============================] - 129s 204ms/step - loss: 0.8852 - accuracy: 0.6657 - val_loss: 1.3062 - val_accuracy: 0.4636\n",
      "Epoch 40/50\n",
      "633/633 [==============================] - 110s 174ms/step - loss: 0.8816 - accuracy: 0.6631 - val_loss: 1.2752 - val_accuracy: 0.4815\n",
      "Epoch 41/50\n",
      "633/633 [==============================] - 114s 180ms/step - loss: 0.8948 - accuracy: 0.6729 - val_loss: 1.4139 - val_accuracy: 0.4546\n",
      "Epoch 42/50\n",
      "633/633 [==============================] - 112s 178ms/step - loss: 0.8612 - accuracy: 0.6770 - val_loss: 1.2417 - val_accuracy: 0.5106\n",
      "Epoch 43/50\n",
      "633/633 [==============================] - 113s 179ms/step - loss: 0.8436 - accuracy: 0.6836 - val_loss: 1.2637 - val_accuracy: 0.4871\n",
      "Epoch 44/50\n",
      "633/633 [==============================] - 116s 183ms/step - loss: 0.8372 - accuracy: 0.6954 - val_loss: 1.4752 - val_accuracy: 0.4323\n",
      "Epoch 45/50\n",
      "633/633 [==============================] - 113s 178ms/step - loss: 0.8183 - accuracy: 0.6952 - val_loss: 1.3118 - val_accuracy: 0.4782\n",
      "Epoch 46/50\n",
      "633/633 [==============================] - 119s 189ms/step - loss: 0.8144 - accuracy: 0.6973 - val_loss: 1.5257 - val_accuracy: 0.4267\n",
      "Epoch 47/50\n",
      "633/633 [==============================] - 133s 210ms/step - loss: 0.7964 - accuracy: 0.7012 - val_loss: 1.2654 - val_accuracy: 0.4972\n",
      "Epoch 48/50\n",
      "633/633 [==============================] - 121s 191ms/step - loss: 0.7955 - accuracy: 0.7094 - val_loss: 1.2638 - val_accuracy: 0.5073\n",
      "Epoch 49/50\n",
      "633/633 [==============================] - 113s 179ms/step - loss: 0.7835 - accuracy: 0.7067 - val_loss: 1.3074 - val_accuracy: 0.4894\n",
      "Epoch 50/50\n",
      "633/633 [==============================] - 113s 179ms/step - loss: 0.7446 - accuracy: 0.7203 - val_loss: 1.2521 - val_accuracy: 0.5028\n"
     ]
    }
   ],
   "source": [
    "earlystopping = EarlyStopping(mode='auto', patience=3, restore_best_weights=True)\n",
    "# rlrp = ReduceLROnPlateau(monitor='loss', factor=0.4, verbose=0, patience=3, min_lr=0.0000001)\n",
    "batch_size = 8\n",
    "epochs = 50\n",
    "\n",
    "model_history = model.fit(X_train,\n",
    "                          y_train,\n",
    "                          batch_size=batch_size,\n",
    "                          epochs=epochs,\n",
    "                          validation_split=0.15\n",
    "#                           callbacks=[earlystopping]\n",
    "                         )"
   ]
  },
  {
   "cell_type": "markdown",
   "id": "5f5f7980",
   "metadata": {},
   "source": [
    "# Model Pred"
   ]
  },
  {
   "cell_type": "code",
   "execution_count": 40,
   "id": "b7b76f3a",
   "metadata": {},
   "outputs": [
    {
     "name": "stdout",
     "output_type": "stream",
     "text": [
      "187/187 [==============================] - 6s 32ms/step\n"
     ]
    }
   ],
   "source": [
    "model_pred = model.predict(X_test, batch_size=batch_size, verbose=1)"
   ]
  },
  {
   "cell_type": "code",
   "execution_count": 41,
   "id": "49cda4eb",
   "metadata": {},
   "outputs": [
    {
     "data": {
      "text/plain": [
       "(1489,)"
      ]
     },
     "execution_count": 41,
     "metadata": {},
     "output_type": "execute_result"
    }
   ],
   "source": [
    "model_pred = model_pred.argmax(axis=1)\n",
    "model_pred.shape"
   ]
  },
  {
   "cell_type": "code",
   "execution_count": 42,
   "id": "8e5d02b6",
   "metadata": {},
   "outputs": [
    {
     "data": {
      "text/plain": [
       "(1489,)"
      ]
     },
     "execution_count": 42,
     "metadata": {},
     "output_type": "execute_result"
    }
   ],
   "source": [
    "y_testf = y_test.argmax(axis=1)\n",
    "y_testf.shape"
   ]
  },
  {
   "cell_type": "code",
   "execution_count": 43,
   "id": "ffeca8b1",
   "metadata": {},
   "outputs": [
    {
     "data": {
      "text/plain": [
       "0.5231699126930826"
      ]
     },
     "execution_count": 43,
     "metadata": {},
     "output_type": "execute_result"
    }
   ],
   "source": [
    "accuracy_score(model_pred, y_testf)"
   ]
  },
  {
   "cell_type": "markdown",
   "id": "0cfd65c5",
   "metadata": {},
   "source": [
    "# History Plot"
   ]
  },
  {
   "cell_type": "code",
   "execution_count": 44,
   "id": "a321e882",
   "metadata": {
    "scrolled": true
   },
   "outputs": [
    {
     "data": {
      "image/png": "[encoded data removed]",
      "text/plain": [
       "<Figure size 432x288 with 1 Axes>"
      ]
     },
     "metadata": {
      "needs_background": "light"
     },
     "output_type": "display_data"
    }
   ],
   "source": [
    "plt.plot(model_history.history['loss'])\n",
    "plt.plot(model_history.history['val_loss'])\n",
    "plt.title('model loss')\n",
    "plt.ylabel('loss')\n",
    "plt.xlabel('epoch')\n",
    "plt.legend(['train', 'test'], loc='upper left')\n",
    "plt.show()"
   ]
  },
  {
   "cell_type": "code",
   "execution_count": 45,
   "id": "c9d41f4d",
   "metadata": {},
   "outputs": [
    {
     "data": {
      "image/png": "[encoded data removed]",
      "text/plain": [
       "<Figure size 432x288 with 1 Axes>"
      ]
     },
     "metadata": {
      "needs_background": "light"
     },
     "output_type": "display_data"
    }
   ],
   "source": [
    "plt.plot(model_history.history['accuracy'])\n",
    "plt.plot(model_history.history['val_accuracy'])\n",
    "plt.title('model accuracy')\n",
    "plt.ylabel('accuracy')\n",
    "plt.xlabel('epoch')\n",
    "plt.legend(['train', 'test'], loc='upper left')\n",
    "plt.show()"
   ]
  },
  {
   "cell_type": "code",
   "execution_count": 26,
   "id": "afe3addd",
   "metadata": {},
   "outputs": [
    {
     "name": "stdout",
     "output_type": "stream",
     "text": [
      "accuracy: 52.32%\n"
     ]
    }
   ],
   "source": [
    "score = model.evaluate(X_test, y_test, verbose=0)\n",
    "print(\"%s: %.2f%%\" % (model.metrics_names[1], score[1]*100))"
   ]
  },
  {
   "cell_type": "code",
   "execution_count": 27,
   "id": "c26bfced",
   "metadata": {
    "scrolled": true
   },
   "outputs": [],
   "source": [
    "cate = ['Angry', 'Disgust', 'Fear', 'Happy', 'Neutral', 'Sad']"
   ]
  },
  {
   "cell_type": "code",
   "execution_count": 28,
   "id": "1c844fd7",
   "metadata": {
    "scrolled": false
   },
   "outputs": [
    {
     "data": {
      "text/plain": [
       "<Figure size 864x720 with 0 Axes>"
      ]
     },
     "metadata": {},
     "output_type": "display_data"
    }
   ],
   "source": [
    "cf_matrix = confusion_matrix(model_pred, y_testf)\n",
    "plt.figure(figsize=(12,10))\n",
    "cm = pd.DataFrame(cf_matrix, index = [i for i in cate], columns = [i for i in cate])"
   ]
  },
  {
   "cell_type": "code",
   "execution_count": 29,
   "id": "ac5aea8b",
   "metadata": {
    "scrolled": true
   },
   "outputs": [
    {
     "data": {
      "image/png": "[encoded data removed]",
      "text/plain": [
       "<Figure size 432x288 with 2 Axes>"
      ]
     },
     "metadata": {
      "needs_background": "light"
     },
     "output_type": "display_data"
    }
   ],
   "source": [
    "sns.heatmap(cm, linecolor=\"white\", annot=True, linewidth=1, cmap=\"Blues\", fmt='')\n",
    "plt.title('Confusion Matrix', size=20)\n",
    "plt.xlabel('Predicted Labels', size=14)\n",
    "plt.ylabel('Actual Labels', size=14)\n",
    "plt.show()"
   ]
  },
  {
   "cell_type": "markdown",
   "id": "photographic-isolation",
   "metadata": {},
   "source": [
    "# Demo"
   ]
  },
  {
   "cell_type": "code",
   "execution_count": 30,
   "id": "6961a79f",
   "metadata": {},
   "outputs": [
    {
     "data": {
      "text/plain": [
       "(6, 216, 17)"
      ]
     },
     "execution_count": 30,
     "metadata": {},
     "output_type": "execute_result"
    }
   ],
   "source": [
    "demo_features = np.loadtxt('../data/demo_mfcc/demo_features.txt')\n",
    "demo_features = demo_features.reshape((6, 216, 17))\n",
    "demo_features.shape"
   ]
  },
  {
   "cell_type": "code",
   "execution_count": 31,
   "id": "c3fbf2e3",
   "metadata": {},
   "outputs": [
    {
     "data": {
      "text/plain": [
       "(6, 6)"
      ]
     },
     "execution_count": 31,
     "metadata": {},
     "output_type": "execute_result"
    }
   ],
   "source": [
    "demo_targets = np.loadtxt('../data/demo_mfcc/demo_targets.txt')\n",
    "demo_targets.shape"
   ]
  },
  {
   "cell_type": "code",
   "execution_count": 32,
   "id": "bfec3390",
   "metadata": {},
   "outputs": [
    {
     "name": "stdout",
     "output_type": "stream",
     "text": [
      "1/1 [==============================] - 0s 37ms/step\n"
     ]
    }
   ],
   "source": [
    "model_pred = model.predict(demo_features, batch_size=batch_size, verbose=1)"
   ]
  },
  {
   "cell_type": "code",
   "execution_count": 33,
   "id": "a23f97c9",
   "metadata": {},
   "outputs": [
    {
     "data": {
      "text/plain": [
       "array([[1.0580160e-02, 8.0571659e-02, 3.0269337e-01, 4.7782230e-01,\n",
       "        7.3728256e-02, 5.4604381e-02],\n",
       "       [2.3881753e-03, 4.5529500e-02, 2.1038733e-01, 2.0277316e-02,\n",
       "        2.1595443e-02, 6.9982231e-01],\n",
       "       [1.9660108e-02, 7.5655341e-01, 1.5245707e-01, 3.7267957e-02,\n",
       "        3.3389628e-03, 3.0722488e-02],\n",
       "       [2.0407916e-03, 1.4273390e-02, 8.7297189e-01, 5.1694799e-02,\n",
       "        1.2212708e-02, 4.6806458e-02],\n",
       "       [4.9972873e-02, 9.3844235e-02, 9.2712730e-02, 3.6733618e-01,\n",
       "        3.4283563e-01, 5.3298365e-02],\n",
       "       [6.7775571e-01, 9.7387336e-02, 1.9533226e-01, 2.5484430e-02,\n",
       "        2.1103580e-04, 3.8291628e-03]], dtype=float32)"
      ]
     },
     "execution_count": 33,
     "metadata": {},
     "output_type": "execute_result"
    }
   ],
   "source": [
    "model_pred"
   ]
  },
  {
   "cell_type": "code",
   "execution_count": 34,
   "id": "e0971260",
   "metadata": {},
   "outputs": [
    {
     "data": {
      "text/plain": [
       "(6,)"
      ]
     },
     "execution_count": 34,
     "metadata": {},
     "output_type": "execute_result"
    }
   ],
   "source": [
    "model_pred = model_pred.argmax(axis=1)\n",
    "model_pred.shape"
   ]
  },
  {
   "cell_type": "code",
   "execution_count": 35,
   "id": "8509a307",
   "metadata": {},
   "outputs": [
    {
     "data": {
      "text/plain": [
       "array([3, 5, 1, 2, 3, 0])"
      ]
     },
     "execution_count": 35,
     "metadata": {},
     "output_type": "execute_result"
    }
   ],
   "source": [
    "model_pred"
   ]
  },
  {
   "cell_type": "code",
   "execution_count": 37,
   "id": "67a102ca",
   "metadata": {},
   "outputs": [
    {
     "data": {
      "text/plain": [
       "(6,)"
      ]
     },
     "execution_count": 37,
     "metadata": {},
     "output_type": "execute_result"
    }
   ],
   "source": [
    "y_testf = demo_targets.argmax(axis=1)\n",
    "y_testf.shape"
   ]
  },
  {
   "cell_type": "code",
   "execution_count": 38,
   "id": "35d5307e",
   "metadata": {},
   "outputs": [
    {
     "data": {
      "text/plain": [
       "0.8333333333333334"
      ]
     },
     "execution_count": 38,
     "metadata": {},
     "output_type": "execute_result"
    }
   ],
   "source": [
    "accuracy_score(model_pred, y_testf)"
   ]
  },
  {
   "cell_type": "code",
   "execution_count": 39,
   "id": "7bf24630",
   "metadata": {},
   "outputs": [
    {
     "data": {
      "text/plain": [
       "array([3, 5, 1, 2, 4, 0])"
      ]
     },
     "execution_count": 39,
     "metadata": {},
     "output_type": "execute_result"
    }
   ],
   "source": [
    "y_testf"
   ]
  }
 ],
 "metadata": {
  "kernelspec": {
   "display_name": "Python 3",
   "language": "python",
   "name": "python3"
  },
  "language_info": {
   "codemirror_mode": {
    "name": "ipython",
    "version": 3
   },
   "file_extension": ".py",
   "mimetype": "text/x-python",
   "name": "python",
   "nbconvert_exporter": "python",
   "pygments_lexer": "ipython3",
   "version": "3.8.3"
  }
 },
 "nbformat": 4,
 "nbformat_minor": 5
}
