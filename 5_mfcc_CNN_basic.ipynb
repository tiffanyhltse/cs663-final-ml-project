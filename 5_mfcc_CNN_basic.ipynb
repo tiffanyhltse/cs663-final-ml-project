{
 "cells": [
  {
   "cell_type": "code",
   "execution_count": 1,
   "id": "c8fa8656",
   "metadata": {},
   "outputs": [],
   "source": [
    "import pandas as pd\n",
    "import numpy as np\n",
    "import matplotlib.pyplot as plt\n",
    "from matplotlib.pyplot import specgram\n",
    "# import seaborn as sns\n",
    "\n",
    "from sklearn.metrics import confusion_matrix, accuracy_score, classification_report\n",
    "from sklearn.model_selection import train_test_split\n",
    "from sklearn.preprocessing import LabelEncoder"
   ]
  },
  {
   "cell_type": "code",
   "execution_count": 11,
   "id": "adfa5a60",
   "metadata": {},
   "outputs": [],
   "source": [
    "import tensorflow as tf"
   ]
  },
  {
   "cell_type": "code",
   "execution_count": 12,
   "id": "0457a61d",
   "metadata": {},
   "outputs": [],
   "source": [
    "# Keras\n",
    "import keras\n",
    "from keras import regularizers\n",
    "from keras.preprocessing import sequence\n",
    "from keras.preprocessing.text import Tokenizer\n",
    "from keras.preprocessing.sequence import pad_sequences\n",
    "from keras.models import Sequential, Model, model_from_json\n",
    "from keras.layers import Dense, Embedding, LSTM\n",
    "from keras.layers import Input, Flatten, Dropout, Activation, BatchNormalization\n",
    "from keras.layers import Conv1D, MaxPooling1D, AveragePooling1D\n",
    "from keras.utils import np_utils, to_categorical\n",
    "from keras.callbacks import ModelCheckpoint"
   ]
  },
  {
   "cell_type": "markdown",
   "id": "b9e31698",
   "metadata": {},
   "source": [
    "# EDA"
   ]
  },
  {
   "cell_type": "code",
   "execution_count": 92,
   "id": "e3703593",
   "metadata": {
    "scrolled": true
   },
   "outputs": [
    {
     "data": {
      "text/html": [
       "<div>\n",
       "<style scoped>\n",
       "    .dataframe tbody tr th:only-of-type {\n",
       "        vertical-align: middle;\n",
       "    }\n",
       "\n",
       "    .dataframe tbody tr th {\n",
       "        vertical-align: top;\n",
       "    }\n",
       "\n",
       "    .dataframe thead th {\n",
       "        text-align: right;\n",
       "    }\n",
       "</style>\n",
       "<table border=\"1\" class=\"dataframe\">\n",
       "  <thead>\n",
       "    <tr style=\"text-align: right;\">\n",
       "      <th></th>\n",
       "      <th>0</th>\n",
       "      <th>1</th>\n",
       "      <th>2</th>\n",
       "      <th>3</th>\n",
       "      <th>4</th>\n",
       "      <th>5</th>\n",
       "      <th>6</th>\n",
       "      <th>7</th>\n",
       "      <th>8</th>\n",
       "      <th>9</th>\n",
       "      <th>...</th>\n",
       "      <th>206</th>\n",
       "      <th>207</th>\n",
       "      <th>208</th>\n",
       "      <th>209</th>\n",
       "      <th>210</th>\n",
       "      <th>211</th>\n",
       "      <th>212</th>\n",
       "      <th>213</th>\n",
       "      <th>214</th>\n",
       "      <th>215</th>\n",
       "    </tr>\n",
       "  </thead>\n",
       "  <tbody>\n",
       "    <tr>\n",
       "      <th>0</th>\n",
       "      <td>-8.168067</td>\n",
       "      <td>-7.800436</td>\n",
       "      <td>-7.915756</td>\n",
       "      <td>-7.994529</td>\n",
       "      <td>-8.202874</td>\n",
       "      <td>-7.465539</td>\n",
       "      <td>-7.377965</td>\n",
       "      <td>-7.568701</td>\n",
       "      <td>-8.213524</td>\n",
       "      <td>-10.430226</td>\n",
       "      <td>...</td>\n",
       "      <td>0.0</td>\n",
       "      <td>0.0</td>\n",
       "      <td>0.0</td>\n",
       "      <td>0.0</td>\n",
       "      <td>0.0</td>\n",
       "      <td>0.0</td>\n",
       "      <td>0.0</td>\n",
       "      <td>0.0</td>\n",
       "      <td>0.0</td>\n",
       "      <td>0.0</td>\n",
       "    </tr>\n",
       "    <tr>\n",
       "      <th>1</th>\n",
       "      <td>-2.702354</td>\n",
       "      <td>-4.649492</td>\n",
       "      <td>-7.547175</td>\n",
       "      <td>-7.703742</td>\n",
       "      <td>-7.041406</td>\n",
       "      <td>-7.379449</td>\n",
       "      <td>-7.598666</td>\n",
       "      <td>-9.199607</td>\n",
       "      <td>-10.556303</td>\n",
       "      <td>-10.907008</td>\n",
       "      <td>...</td>\n",
       "      <td>0.0</td>\n",
       "      <td>0.0</td>\n",
       "      <td>0.0</td>\n",
       "      <td>0.0</td>\n",
       "      <td>0.0</td>\n",
       "      <td>0.0</td>\n",
       "      <td>0.0</td>\n",
       "      <td>0.0</td>\n",
       "      <td>0.0</td>\n",
       "      <td>0.0</td>\n",
       "    </tr>\n",
       "    <tr>\n",
       "      <th>2</th>\n",
       "      <td>-13.114061</td>\n",
       "      <td>-13.371377</td>\n",
       "      <td>-14.944333</td>\n",
       "      <td>-14.832129</td>\n",
       "      <td>-13.873511</td>\n",
       "      <td>-14.302903</td>\n",
       "      <td>-14.765977</td>\n",
       "      <td>-14.291303</td>\n",
       "      <td>-14.661263</td>\n",
       "      <td>-15.531026</td>\n",
       "      <td>...</td>\n",
       "      <td>0.0</td>\n",
       "      <td>0.0</td>\n",
       "      <td>0.0</td>\n",
       "      <td>0.0</td>\n",
       "      <td>0.0</td>\n",
       "      <td>0.0</td>\n",
       "      <td>0.0</td>\n",
       "      <td>0.0</td>\n",
       "      <td>0.0</td>\n",
       "      <td>0.0</td>\n",
       "    </tr>\n",
       "    <tr>\n",
       "      <th>3</th>\n",
       "      <td>-12.917717</td>\n",
       "      <td>-13.771543</td>\n",
       "      <td>-13.210535</td>\n",
       "      <td>-13.364563</td>\n",
       "      <td>-14.720303</td>\n",
       "      <td>-15.919627</td>\n",
       "      <td>-16.297949</td>\n",
       "      <td>-15.101595</td>\n",
       "      <td>-13.588952</td>\n",
       "      <td>-14.360147</td>\n",
       "      <td>...</td>\n",
       "      <td>0.0</td>\n",
       "      <td>0.0</td>\n",
       "      <td>0.0</td>\n",
       "      <td>0.0</td>\n",
       "      <td>0.0</td>\n",
       "      <td>0.0</td>\n",
       "      <td>0.0</td>\n",
       "      <td>0.0</td>\n",
       "      <td>0.0</td>\n",
       "      <td>0.0</td>\n",
       "    </tr>\n",
       "    <tr>\n",
       "      <th>4</th>\n",
       "      <td>-9.380492</td>\n",
       "      <td>-11.417166</td>\n",
       "      <td>-13.007054</td>\n",
       "      <td>-13.997663</td>\n",
       "      <td>-13.345899</td>\n",
       "      <td>-14.623080</td>\n",
       "      <td>-16.086489</td>\n",
       "      <td>-14.464224</td>\n",
       "      <td>-12.293569</td>\n",
       "      <td>-10.813901</td>\n",
       "      <td>...</td>\n",
       "      <td>0.0</td>\n",
       "      <td>0.0</td>\n",
       "      <td>0.0</td>\n",
       "      <td>0.0</td>\n",
       "      <td>0.0</td>\n",
       "      <td>0.0</td>\n",
       "      <td>0.0</td>\n",
       "      <td>0.0</td>\n",
       "      <td>0.0</td>\n",
       "      <td>0.0</td>\n",
       "    </tr>\n",
       "  </tbody>\n",
       "</table>\n",
       "<p>5 rows × 216 columns</p>\n",
       "</div>"
      ],
      "text/plain": [
       "           0          1          2          3          4          5  \\\n",
       "0  -8.168067  -7.800436  -7.915756  -7.994529  -8.202874  -7.465539   \n",
       "1  -2.702354  -4.649492  -7.547175  -7.703742  -7.041406  -7.379449   \n",
       "2 -13.114061 -13.371377 -14.944333 -14.832129 -13.873511 -14.302903   \n",
       "3 -12.917717 -13.771543 -13.210535 -13.364563 -14.720303 -15.919627   \n",
       "4  -9.380492 -11.417166 -13.007054 -13.997663 -13.345899 -14.623080   \n",
       "\n",
       "           6          7          8          9  ...  206  207  208  209  210  \\\n",
       "0  -7.377965  -7.568701  -8.213524 -10.430226  ...  0.0  0.0  0.0  0.0  0.0   \n",
       "1  -7.598666  -9.199607 -10.556303 -10.907008  ...  0.0  0.0  0.0  0.0  0.0   \n",
       "2 -14.765977 -14.291303 -14.661263 -15.531026  ...  0.0  0.0  0.0  0.0  0.0   \n",
       "3 -16.297949 -15.101595 -13.588952 -14.360147  ...  0.0  0.0  0.0  0.0  0.0   \n",
       "4 -16.086489 -14.464224 -12.293569 -10.813901  ...  0.0  0.0  0.0  0.0  0.0   \n",
       "\n",
       "   211  212  213  214  215  \n",
       "0  0.0  0.0  0.0  0.0  0.0  \n",
       "1  0.0  0.0  0.0  0.0  0.0  \n",
       "2  0.0  0.0  0.0  0.0  0.0  \n",
       "3  0.0  0.0  0.0  0.0  0.0  \n",
       "4  0.0  0.0  0.0  0.0  0.0  \n",
       "\n",
       "[5 rows x 216 columns]"
      ]
     },
     "execution_count": 92,
     "metadata": {},
     "output_type": "execute_result"
    }
   ],
   "source": [
    "X_train = pd.read_csv('../TiffanyFiles/original_mfcc_data.csv/X_train.csv')\n",
    "X_train.head()"
   ]
  },
  {
   "cell_type": "code",
   "execution_count": 93,
   "id": "229b4c58",
   "metadata": {},
   "outputs": [
    {
     "data": {
      "text/html": [
       "<div>\n",
       "<style scoped>\n",
       "    .dataframe tbody tr th:only-of-type {\n",
       "        vertical-align: middle;\n",
       "    }\n",
       "\n",
       "    .dataframe tbody tr th {\n",
       "        vertical-align: top;\n",
       "    }\n",
       "\n",
       "    .dataframe thead th {\n",
       "        text-align: right;\n",
       "    }\n",
       "</style>\n",
       "<table border=\"1\" class=\"dataframe\">\n",
       "  <thead>\n",
       "    <tr style=\"text-align: right;\">\n",
       "      <th></th>\n",
       "      <th>label</th>\n",
       "    </tr>\n",
       "  </thead>\n",
       "  <tbody>\n",
       "    <tr>\n",
       "      <th>0</th>\n",
       "      <td>3</td>\n",
       "    </tr>\n",
       "    <tr>\n",
       "      <th>1</th>\n",
       "      <td>0</td>\n",
       "    </tr>\n",
       "    <tr>\n",
       "      <th>2</th>\n",
       "      <td>3</td>\n",
       "    </tr>\n",
       "    <tr>\n",
       "      <th>3</th>\n",
       "      <td>3</td>\n",
       "    </tr>\n",
       "    <tr>\n",
       "      <th>4</th>\n",
       "      <td>0</td>\n",
       "    </tr>\n",
       "  </tbody>\n",
       "</table>\n",
       "</div>"
      ],
      "text/plain": [
       "   label\n",
       "0      3\n",
       "1      0\n",
       "2      3\n",
       "3      3\n",
       "4      0"
      ]
     },
     "execution_count": 93,
     "metadata": {},
     "output_type": "execute_result"
    }
   ],
   "source": [
    "y_train = pd.read_csv('y_train.csv')\n",
    "y_train.head()"
   ]
  },
  {
   "cell_type": "code",
   "execution_count": 96,
   "id": "27b50f83",
   "metadata": {},
   "outputs": [
    {
     "name": "stdout",
     "output_type": "stream",
     "text": [
      "[3 0 5 4 1 2]\n",
      "6\n"
     ]
    },
    {
     "data": {
      "text/plain": [
       "6"
      ]
     },
     "execution_count": 96,
     "metadata": {},
     "output_type": "execute_result"
    }
   ],
   "source": [
    "print(y_train['label'].unique())\n",
    "print(y_train['label'].nunique())\n",
    "\n",
    "classes = y_train['label'].nunique()\n",
    "classes"
   ]
  },
  {
   "cell_type": "code",
   "execution_count": 97,
   "id": "360d50f6",
   "metadata": {},
   "outputs": [
    {
     "data": {
      "text/html": [
       "<div>\n",
       "<style scoped>\n",
       "    .dataframe tbody tr th:only-of-type {\n",
       "        vertical-align: middle;\n",
       "    }\n",
       "\n",
       "    .dataframe tbody tr th {\n",
       "        vertical-align: top;\n",
       "    }\n",
       "\n",
       "    .dataframe thead th {\n",
       "        text-align: right;\n",
       "    }\n",
       "</style>\n",
       "<table border=\"1\" class=\"dataframe\">\n",
       "  <thead>\n",
       "    <tr style=\"text-align: right;\">\n",
       "      <th></th>\n",
       "      <th>0</th>\n",
       "      <th>1</th>\n",
       "      <th>2</th>\n",
       "      <th>3</th>\n",
       "      <th>4</th>\n",
       "      <th>5</th>\n",
       "      <th>6</th>\n",
       "      <th>7</th>\n",
       "      <th>8</th>\n",
       "      <th>9</th>\n",
       "      <th>...</th>\n",
       "      <th>206</th>\n",
       "      <th>207</th>\n",
       "      <th>208</th>\n",
       "      <th>209</th>\n",
       "      <th>210</th>\n",
       "      <th>211</th>\n",
       "      <th>212</th>\n",
       "      <th>213</th>\n",
       "      <th>214</th>\n",
       "      <th>215</th>\n",
       "    </tr>\n",
       "  </thead>\n",
       "  <tbody>\n",
       "    <tr>\n",
       "      <th>0</th>\n",
       "      <td>-13.083993</td>\n",
       "      <td>-13.687945</td>\n",
       "      <td>-13.298521</td>\n",
       "      <td>-13.990982</td>\n",
       "      <td>-14.618415</td>\n",
       "      <td>-15.586377</td>\n",
       "      <td>-15.835006</td>\n",
       "      <td>-14.492863</td>\n",
       "      <td>-14.111957</td>\n",
       "      <td>-14.733546</td>\n",
       "      <td>...</td>\n",
       "      <td>0.0</td>\n",
       "      <td>0.0</td>\n",
       "      <td>0.0</td>\n",
       "      <td>0.0</td>\n",
       "      <td>0.0</td>\n",
       "      <td>0.0</td>\n",
       "      <td>0.0</td>\n",
       "      <td>0.0</td>\n",
       "      <td>0.0</td>\n",
       "      <td>0.0</td>\n",
       "    </tr>\n",
       "    <tr>\n",
       "      <th>1</th>\n",
       "      <td>-12.674339</td>\n",
       "      <td>-12.900522</td>\n",
       "      <td>-11.405287</td>\n",
       "      <td>-11.954521</td>\n",
       "      <td>-13.132729</td>\n",
       "      <td>-11.839126</td>\n",
       "      <td>-12.810223</td>\n",
       "      <td>-13.163071</td>\n",
       "      <td>-12.615635</td>\n",
       "      <td>-11.703779</td>\n",
       "      <td>...</td>\n",
       "      <td>0.0</td>\n",
       "      <td>0.0</td>\n",
       "      <td>0.0</td>\n",
       "      <td>0.0</td>\n",
       "      <td>0.0</td>\n",
       "      <td>0.0</td>\n",
       "      <td>0.0</td>\n",
       "      <td>0.0</td>\n",
       "      <td>0.0</td>\n",
       "      <td>0.0</td>\n",
       "    </tr>\n",
       "    <tr>\n",
       "      <th>2</th>\n",
       "      <td>-9.821266</td>\n",
       "      <td>-9.950452</td>\n",
       "      <td>-9.805934</td>\n",
       "      <td>-8.981818</td>\n",
       "      <td>-8.939062</td>\n",
       "      <td>-10.652815</td>\n",
       "      <td>-11.612457</td>\n",
       "      <td>-12.012306</td>\n",
       "      <td>-11.050820</td>\n",
       "      <td>-8.898211</td>\n",
       "      <td>...</td>\n",
       "      <td>0.0</td>\n",
       "      <td>0.0</td>\n",
       "      <td>0.0</td>\n",
       "      <td>0.0</td>\n",
       "      <td>0.0</td>\n",
       "      <td>0.0</td>\n",
       "      <td>0.0</td>\n",
       "      <td>0.0</td>\n",
       "      <td>0.0</td>\n",
       "      <td>0.0</td>\n",
       "    </tr>\n",
       "    <tr>\n",
       "      <th>3</th>\n",
       "      <td>-16.126686</td>\n",
       "      <td>-15.113317</td>\n",
       "      <td>-15.780532</td>\n",
       "      <td>-15.500236</td>\n",
       "      <td>-14.640756</td>\n",
       "      <td>-15.195027</td>\n",
       "      <td>-15.745050</td>\n",
       "      <td>-15.891955</td>\n",
       "      <td>-14.633769</td>\n",
       "      <td>-14.402689</td>\n",
       "      <td>...</td>\n",
       "      <td>0.0</td>\n",
       "      <td>0.0</td>\n",
       "      <td>0.0</td>\n",
       "      <td>0.0</td>\n",
       "      <td>0.0</td>\n",
       "      <td>0.0</td>\n",
       "      <td>0.0</td>\n",
       "      <td>0.0</td>\n",
       "      <td>0.0</td>\n",
       "      <td>0.0</td>\n",
       "    </tr>\n",
       "    <tr>\n",
       "      <th>4</th>\n",
       "      <td>-10.004100</td>\n",
       "      <td>-9.035198</td>\n",
       "      <td>-8.765038</td>\n",
       "      <td>-8.844861</td>\n",
       "      <td>-9.404778</td>\n",
       "      <td>-9.471016</td>\n",
       "      <td>-8.253861</td>\n",
       "      <td>-6.607890</td>\n",
       "      <td>-6.418004</td>\n",
       "      <td>-6.296650</td>\n",
       "      <td>...</td>\n",
       "      <td>0.0</td>\n",
       "      <td>0.0</td>\n",
       "      <td>0.0</td>\n",
       "      <td>0.0</td>\n",
       "      <td>0.0</td>\n",
       "      <td>0.0</td>\n",
       "      <td>0.0</td>\n",
       "      <td>0.0</td>\n",
       "      <td>0.0</td>\n",
       "      <td>0.0</td>\n",
       "    </tr>\n",
       "  </tbody>\n",
       "</table>\n",
       "<p>5 rows × 216 columns</p>\n",
       "</div>"
      ],
      "text/plain": [
       "           0          1          2          3          4          5  \\\n",
       "0 -13.083993 -13.687945 -13.298521 -13.990982 -14.618415 -15.586377   \n",
       "1 -12.674339 -12.900522 -11.405287 -11.954521 -13.132729 -11.839126   \n",
       "2  -9.821266  -9.950452  -9.805934  -8.981818  -8.939062 -10.652815   \n",
       "3 -16.126686 -15.113317 -15.780532 -15.500236 -14.640756 -15.195027   \n",
       "4 -10.004100  -9.035198  -8.765038  -8.844861  -9.404778  -9.471016   \n",
       "\n",
       "           6          7          8          9  ...  206  207  208  209  210  \\\n",
       "0 -15.835006 -14.492863 -14.111957 -14.733546  ...  0.0  0.0  0.0  0.0  0.0   \n",
       "1 -12.810223 -13.163071 -12.615635 -11.703779  ...  0.0  0.0  0.0  0.0  0.0   \n",
       "2 -11.612457 -12.012306 -11.050820  -8.898211  ...  0.0  0.0  0.0  0.0  0.0   \n",
       "3 -15.745050 -15.891955 -14.633769 -14.402689  ...  0.0  0.0  0.0  0.0  0.0   \n",
       "4  -8.253861  -6.607890  -6.418004  -6.296650  ...  0.0  0.0  0.0  0.0  0.0   \n",
       "\n",
       "   211  212  213  214  215  \n",
       "0  0.0  0.0  0.0  0.0  0.0  \n",
       "1  0.0  0.0  0.0  0.0  0.0  \n",
       "2  0.0  0.0  0.0  0.0  0.0  \n",
       "3  0.0  0.0  0.0  0.0  0.0  \n",
       "4  0.0  0.0  0.0  0.0  0.0  \n",
       "\n",
       "[5 rows x 216 columns]"
      ]
     },
     "execution_count": 97,
     "metadata": {},
     "output_type": "execute_result"
    }
   ],
   "source": [
    "X_test = pd.read_csv('X_test.csv')\n",
    "X_test.head()"
   ]
  },
  {
   "cell_type": "code",
   "execution_count": 18,
   "id": "a0da5617",
   "metadata": {},
   "outputs": [
    {
     "data": {
      "text/html": [
       "<div>\n",
       "<style scoped>\n",
       "    .dataframe tbody tr th:only-of-type {\n",
       "        vertical-align: middle;\n",
       "    }\n",
       "\n",
       "    .dataframe tbody tr th {\n",
       "        vertical-align: top;\n",
       "    }\n",
       "\n",
       "    .dataframe thead th {\n",
       "        text-align: right;\n",
       "    }\n",
       "</style>\n",
       "<table border=\"1\" class=\"dataframe\">\n",
       "  <thead>\n",
       "    <tr style=\"text-align: right;\">\n",
       "      <th></th>\n",
       "      <th>label</th>\n",
       "    </tr>\n",
       "  </thead>\n",
       "  <tbody>\n",
       "    <tr>\n",
       "      <th>0</th>\n",
       "      <td>4</td>\n",
       "    </tr>\n",
       "    <tr>\n",
       "      <th>1</th>\n",
       "      <td>3</td>\n",
       "    </tr>\n",
       "    <tr>\n",
       "      <th>2</th>\n",
       "      <td>4</td>\n",
       "    </tr>\n",
       "    <tr>\n",
       "      <th>3</th>\n",
       "      <td>1</td>\n",
       "    </tr>\n",
       "    <tr>\n",
       "      <th>4</th>\n",
       "      <td>2</td>\n",
       "    </tr>\n",
       "  </tbody>\n",
       "</table>\n",
       "</div>"
      ],
      "text/plain": [
       "   label\n",
       "0      4\n",
       "1      3\n",
       "2      4\n",
       "3      1\n",
       "4      2"
      ]
     },
     "execution_count": 18,
     "metadata": {},
     "output_type": "execute_result"
    }
   ],
   "source": [
    "y_test = pd.read_csv('y_test.csv')\n",
    "y_test.head()"
   ]
  },
  {
   "cell_type": "code",
   "execution_count": 20,
   "id": "73062ff5",
   "metadata": {},
   "outputs": [
    {
     "name": "stdout",
     "output_type": "stream",
     "text": [
      "X_train shape: (5953, 216)\n",
      "y_train shape: (5953, 1)\n",
      "X_test shape: (1489, 216)\n",
      "y_test shape: (1489, 1)\n",
      "X_train %: 0.7999193765116904\n",
      "X_train %: 0.2000806234883096\n"
     ]
    }
   ],
   "source": [
    "# Check out the data\n",
    "print(f'X_train shape: {X_train.shape}')\n",
    "print(f'y_train shape: {y_train.shape}')\n",
    "print(f'X_test shape: {X_test.shape}')\n",
    "print(f'y_test shape: {y_test.shape}')\n",
    "print(f'X_train %: {X_train.shape[0] / (X_train.shape[0] + X_test.shape[0])}')\n",
    "print(f'X_train %: {X_test.shape[0] / (X_train.shape[0] + X_test.shape[0])}')"
   ]
  },
  {
   "cell_type": "code",
   "execution_count": 21,
   "id": "d33afa55",
   "metadata": {},
   "outputs": [],
   "source": [
    "from sklearn.preprocessing import StandardScaler\n",
    "#Normalize the data\n",
    "scaler = StandardScaler()\n",
    "scaler.fit(X_train)\n",
    "X_train_scalled = scaler.transform(X_train)\n",
    "X_test_scalled = scaler.transform(X_test)"
   ]
  },
  {
   "cell_type": "code",
   "execution_count": 22,
   "id": "15a00e47",
   "metadata": {},
   "outputs": [
    {
     "name": "stdout",
     "output_type": "stream",
     "text": [
      "The classification accuracy is: 0.24088694775743322\n",
      "The classification accuracy is: 0.2619207521826729\n"
     ]
    }
   ],
   "source": [
    "from sklearn.tree import DecisionTreeClassifier\n",
    "\n",
    "#fitting the DT\n",
    "DT_model_one = DecisionTreeClassifier()\n",
    "DT_model_one.fit(X_train_scalled, y_train)\n",
    "DT_model_one_pred = DT_model_one.predict(X_test_scalled)\n",
    "#Getting the score\n",
    "print(f\"The classification accuracy is: {DT_model_one.score(X_train, y_train)}\")\n",
    "print(f\"The classification accuracy is: {DT_model_one.score(X_test, y_test)}\")"
   ]
  },
  {
   "cell_type": "code",
   "execution_count": 23,
   "id": "a559bf3f",
   "metadata": {
    "scrolled": false
   },
   "outputs": [
    {
     "name": "stdout",
     "output_type": "stream",
     "text": [
      "0.27468099395567497\n"
     ]
    }
   ],
   "source": [
    "DT_model_one_score = accuracy_score(y_test, DT_model_one_pred)\n",
    "print(DT_model_one_score)"
   ]
  },
  {
   "cell_type": "code",
   "execution_count": 26,
   "id": "774984fc",
   "metadata": {},
   "outputs": [],
   "source": [
    "X_train_scalled = np.array(X_train_scalled)\n",
    "y_train = np.array(y_train)\n",
    "X_test_scalled = np.array(X_test_scalled)\n",
    "y_test = np.array(y_test)"
   ]
  },
  {
   "cell_type": "code",
   "execution_count": 33,
   "id": "2298b444",
   "metadata": {},
   "outputs": [
    {
     "name": "stdout",
     "output_type": "stream",
     "text": [
      "X_train shape: (5953, 216)\n",
      "y_train shape: (5953, 6)\n",
      "X_test shape: (1489, 216)\n",
      "y_test shape: (1489, 6)\n"
     ]
    }
   ],
   "source": [
    "print(f'X_train shape: {X_train_scalled.shape}')\n",
    "print(f'y_train shape: {y_train.shape}')\n",
    "print(f'X_test shape: {X_test_scalled.shape}')\n",
    "print(f'y_test shape: {y_test.shape}')"
   ]
  },
  {
   "cell_type": "code",
   "execution_count": 107,
   "id": "7df26746",
   "metadata": {},
   "outputs": [
    {
     "name": "stdout",
     "output_type": "stream",
     "text": [
      "      label\n",
      "0         3\n",
      "1         0\n",
      "2         3\n",
      "3         3\n",
      "4         0\n",
      "...     ...\n",
      "5948      3\n",
      "5949      5\n",
      "5950      5\n",
      "5951      2\n",
      "5952      1\n",
      "\n",
      "[5953 rows x 1 columns]\n"
     ]
    }
   ],
   "source": [
    "print(y_train)"
   ]
  },
  {
   "cell_type": "code",
   "execution_count": 36,
   "id": "841376a3",
   "metadata": {},
   "outputs": [
    {
     "data": {
      "text/plain": [
       "(5953, 216, 1)"
      ]
     },
     "execution_count": 36,
     "metadata": {},
     "output_type": "execute_result"
    }
   ],
   "source": [
    "X_traincnn = np.expand_dims(X_train_scalled, axis=2)\n",
    "X_testcnn = np.expand_dims(X_test_scalled, axis=2)\n",
    "X_traincnn.shape"
   ]
  },
  {
   "cell_type": "code",
   "execution_count": 109,
   "id": "dbed39ae",
   "metadata": {},
   "outputs": [
    {
     "name": "stdout",
     "output_type": "stream",
     "text": [
      "Model: \"sequential_2\"\n",
      "_________________________________________________________________\n",
      "Layer (type)                 Output Shape              Param #   \n",
      "=================================================================\n",
      "conv1d_16 (Conv1D)           (None, 216, 256)          2304      \n",
      "_________________________________________________________________\n",
      "activation_18 (Activation)   (None, 216, 256)          0         \n",
      "_________________________________________________________________\n",
      "conv1d_17 (Conv1D)           (None, 216, 256)          524544    \n",
      "_________________________________________________________________\n",
      "batch_normalization_4 (Batch (None, 216, 256)          1024      \n",
      "_________________________________________________________________\n",
      "activation_19 (Activation)   (None, 216, 256)          0         \n",
      "_________________________________________________________________\n",
      "dropout_4 (Dropout)          (None, 216, 256)          0         \n",
      "_________________________________________________________________\n",
      "max_pooling1d_4 (MaxPooling1 (None, 27, 256)           0         \n",
      "_________________________________________________________________\n",
      "conv1d_18 (Conv1D)           (None, 27, 128)           262272    \n",
      "_________________________________________________________________\n",
      "activation_20 (Activation)   (None, 27, 128)           0         \n",
      "_________________________________________________________________\n",
      "conv1d_19 (Conv1D)           (None, 27, 128)           131200    \n",
      "_________________________________________________________________\n",
      "activation_21 (Activation)   (None, 27, 128)           0         \n",
      "_________________________________________________________________\n",
      "conv1d_20 (Conv1D)           (None, 27, 128)           131200    \n",
      "_________________________________________________________________\n",
      "activation_22 (Activation)   (None, 27, 128)           0         \n",
      "_________________________________________________________________\n",
      "conv1d_21 (Conv1D)           (None, 27, 128)           131200    \n",
      "_________________________________________________________________\n",
      "batch_normalization_5 (Batch (None, 27, 128)           512       \n",
      "_________________________________________________________________\n",
      "activation_23 (Activation)   (None, 27, 128)           0         \n",
      "_________________________________________________________________\n",
      "dropout_5 (Dropout)          (None, 27, 128)           0         \n",
      "_________________________________________________________________\n",
      "max_pooling1d_5 (MaxPooling1 (None, 3, 128)            0         \n",
      "_________________________________________________________________\n",
      "conv1d_22 (Conv1D)           (None, 3, 64)             65600     \n",
      "_________________________________________________________________\n",
      "activation_24 (Activation)   (None, 3, 64)             0         \n",
      "_________________________________________________________________\n",
      "conv1d_23 (Conv1D)           (None, 3, 64)             32832     \n",
      "_________________________________________________________________\n",
      "activation_25 (Activation)   (None, 3, 64)             0         \n",
      "_________________________________________________________________\n",
      "flatten_2 (Flatten)          (None, 192)               0         \n",
      "_________________________________________________________________\n",
      "dense_2 (Dense)              (None, 6)                 1158      \n",
      "_________________________________________________________________\n",
      "activation_26 (Activation)   (None, 6)                 0         \n",
      "=================================================================\n",
      "Total params: 1,283,846\n",
      "Trainable params: 1,283,078\n",
      "Non-trainable params: 768\n",
      "_________________________________________________________________\n"
     ]
    }
   ],
   "source": [
    "# New model\n",
    "lr=0.0001\n",
    "model = Sequential()\n",
    "model.add(Conv1D(256, 8, padding='same',input_shape=(X_train.shape[1],1)))\n",
    "model.add(Activation('relu'))\n",
    "model.add(Conv1D(256, 8, padding='same'))\n",
    "model.add(BatchNormalization())\n",
    "model.add(Activation('relu'))\n",
    "model.add(Dropout(0.25))\n",
    "model.add(MaxPooling1D(pool_size=(8)))\n",
    "model.add(Conv1D(128, 8, padding='same'))\n",
    "model.add(Activation('relu'))\n",
    "model.add(Conv1D(128, 8, padding='same'))\n",
    "model.add(Activation('relu'))\n",
    "model.add(Conv1D(128, 8, padding='same'))\n",
    "model.add(Activation('relu'))\n",
    "model.add(Conv1D(128, 8, padding='same'))\n",
    "model.add(BatchNormalization())\n",
    "model.add(Activation('relu'))\n",
    "model.add(Dropout(0.25))\n",
    "model.add(MaxPooling1D(pool_size=(8)))\n",
    "model.add(Conv1D(64, 8, padding='same'))\n",
    "model.add(Activation('relu'))\n",
    "model.add(Conv1D(64, 8, padding='same'))\n",
    "model.add(Activation('relu'))\n",
    "model.add(Flatten())\n",
    "model.add(Dense(classes))\n",
    "model.add(Activation('softmax'))\n",
    "opt = keras.optimizers.RMSprop(lr=lr, decay=1e-6)\n",
    "model.summary()"
   ]
  },
  {
   "cell_type": "code",
   "execution_count": 48,
   "id": "acc51f5e",
   "metadata": {
    "scrolled": true
   },
   "outputs": [
    {
     "name": "stdout",
     "output_type": "stream",
     "text": [
      "Epoch 1/20\n",
      "373/373 [==============================] - 54s 140ms/step - loss: 1.4479 - accuracy: 0.4045 - val_loss: 1.5091 - val_accuracy: 0.3976\n",
      "Epoch 2/20\n",
      "373/373 [==============================] - 49s 132ms/step - loss: 1.4455 - accuracy: 0.4075 - val_loss: 1.5207 - val_accuracy: 0.3862\n",
      "Epoch 3/20\n",
      "373/373 [==============================] - 50s 134ms/step - loss: 1.4204 - accuracy: 0.4115 - val_loss: 1.4953 - val_accuracy: 0.3895\n",
      "Epoch 4/20\n",
      "373/373 [==============================] - 49s 131ms/step - loss: 1.4197 - accuracy: 0.4237 - val_loss: 1.4938 - val_accuracy: 0.3956\n",
      "Epoch 5/20\n",
      "373/373 [==============================] - 49s 130ms/step - loss: 1.4226 - accuracy: 0.4153 - val_loss: 1.5295 - val_accuracy: 0.3734\n",
      "Epoch 6/20\n",
      "373/373 [==============================] - 49s 131ms/step - loss: 1.4196 - accuracy: 0.4261 - val_loss: 1.5099 - val_accuracy: 0.3855\n",
      "Epoch 7/20\n",
      "373/373 [==============================] - 50s 134ms/step - loss: 1.4059 - accuracy: 0.4257 - val_loss: 1.5064 - val_accuracy: 0.3808\n",
      "Epoch 8/20\n",
      "373/373 [==============================] - 49s 132ms/step - loss: 1.4140 - accuracy: 0.4376 - val_loss: 1.4938 - val_accuracy: 0.3969\n",
      "Epoch 9/20\n",
      "373/373 [==============================] - 49s 133ms/step - loss: 1.3940 - accuracy: 0.4276 - val_loss: 1.5070 - val_accuracy: 0.3855\n",
      "Epoch 10/20\n",
      "373/373 [==============================] - 49s 132ms/step - loss: 1.4110 - accuracy: 0.4301 - val_loss: 1.4870 - val_accuracy: 0.3989\n",
      "Epoch 11/20\n",
      "373/373 [==============================] - 49s 133ms/step - loss: 1.3797 - accuracy: 0.4389 - val_loss: 1.4929 - val_accuracy: 0.3842\n",
      "Epoch 12/20\n",
      "373/373 [==============================] - 51s 135ms/step - loss: 1.3749 - accuracy: 0.4508 - val_loss: 1.4797 - val_accuracy: 0.3915\n",
      "Epoch 13/20\n",
      "373/373 [==============================] - 50s 134ms/step - loss: 1.3768 - accuracy: 0.4467 - val_loss: 1.4876 - val_accuracy: 0.3949\n",
      "Epoch 14/20\n",
      "373/373 [==============================] - 87s 232ms/step - loss: 1.3770 - accuracy: 0.4427 - val_loss: 1.4918 - val_accuracy: 0.3801\n",
      "Epoch 15/20\n",
      "373/373 [==============================] - 53s 142ms/step - loss: 1.3760 - accuracy: 0.4483 - val_loss: 1.4919 - val_accuracy: 0.3842\n",
      "Epoch 16/20\n",
      "373/373 [==============================] - 49s 132ms/step - loss: 1.3685 - accuracy: 0.4558 - val_loss: 1.4861 - val_accuracy: 0.3915\n",
      "Epoch 17/20\n",
      "373/373 [==============================] - 47s 125ms/step - loss: 1.3465 - accuracy: 0.4663 - val_loss: 1.4785 - val_accuracy: 0.3922\n",
      "Epoch 18/20\n",
      "373/373 [==============================] - 47s 125ms/step - loss: 1.3566 - accuracy: 0.4565 - val_loss: 1.4871 - val_accuracy: 0.3915\n",
      "Epoch 19/20\n",
      "373/373 [==============================] - 51s 137ms/step - loss: 1.3487 - accuracy: 0.4583 - val_loss: 1.4854 - val_accuracy: 0.3862\n",
      "Epoch 20/20\n",
      "373/373 [==============================] - 51s 136ms/step - loss: 1.3314 - accuracy: 0.4659 - val_loss: 1.4761 - val_accuracy: 0.3828\n"
     ]
    }
   ],
   "source": [
    "model.compile(loss='categorical_crossentropy', optimizer=opt,metrics=['accuracy'])\n",
    "model_history=model.fit(X_traincnn, y_train, batch_size=16, epochs=20, validation_data=(X_testcnn, y_test))"
   ]
  },
  {
   "cell_type": "code",
   "execution_count": 78,
   "id": "df558005",
   "metadata": {
    "scrolled": true
   },
   "outputs": [
    {
     "name": "stdout",
     "output_type": "stream",
     "text": [
      "94/94 [==============================] - 3s 29ms/step\n"
     ]
    }
   ],
   "source": [
    "model_pred = model.predict(X_testcnn, batch_size=16, verbose=1)"
   ]
  },
  {
   "cell_type": "code",
   "execution_count": 79,
   "id": "e77b74f5",
   "metadata": {},
   "outputs": [
    {
     "data": {
      "text/plain": [
       "array([1, 2, 0, ..., 5, 4, 5])"
      ]
     },
     "execution_count": 79,
     "metadata": {},
     "output_type": "execute_result"
    }
   ],
   "source": [
    "model_pred=model_pred.argmax(axis=1)\n",
    "model_pred"
   ]
  },
  {
   "cell_type": "code",
   "execution_count": 80,
   "id": "c57dd7a1",
   "metadata": {
    "scrolled": true
   },
   "outputs": [
    {
     "data": {
      "text/plain": [
       "(1489,)"
      ]
     },
     "execution_count": 80,
     "metadata": {},
     "output_type": "execute_result"
    }
   ],
   "source": [
    "model_pred.shape"
   ]
  },
  {
   "cell_type": "code",
   "execution_count": 81,
   "id": "2c8e1cf0",
   "metadata": {},
   "outputs": [
    {
     "data": {
      "text/plain": [
       "(1489,)"
      ]
     },
     "execution_count": 81,
     "metadata": {},
     "output_type": "execute_result"
    }
   ],
   "source": [
    "y_testf=y_test.argmax(axis=1)\n",
    "y_testf\n",
    "y_testf.shape"
   ]
  },
  {
   "cell_type": "code",
   "execution_count": 82,
   "id": "2dc9ec15",
   "metadata": {},
   "outputs": [
    {
     "data": {
      "text/plain": [
       "0.3828072531900604"
      ]
     },
     "execution_count": 82,
     "metadata": {},
     "output_type": "execute_result"
    }
   ],
   "source": [
    "accuracy_score(model_pred, y_testf)"
   ]
  },
  {
   "cell_type": "code",
   "execution_count": 47,
   "id": "1acd2a82",
   "metadata": {},
   "outputs": [
    {
     "data": {
      "image/png": "[encoded data removed]",
      "text/plain": [
       "<Figure size 432x288 with 1 Axes>"
      ]
     },
     "metadata": {
      "needs_background": "light"
     },
     "output_type": "display_data"
    }
   ],
   "source": [
    "plt.plot(model_history.history['loss'])\n",
    "plt.plot(model_history.history['val_loss'])\n",
    "plt.title('model loss')\n",
    "plt.ylabel('loss')\n",
    "plt.xlabel('epoch')\n",
    "plt.legend(['train', 'test'], loc='upper left')\n",
    "plt.show()"
   ]
  },
  {
   "cell_type": "code",
   "execution_count": 41,
   "id": "48071b98",
   "metadata": {
    "scrolled": false
   },
   "outputs": [
    {
     "name": "stdout",
     "output_type": "stream",
     "text": [
      "accuracy: 37.94%\n"
     ]
    }
   ],
   "source": [
    "score = model.evaluate(X_testcnn, y_test, verbose=0)\n",
    "print(\"%s: %.2f%%\" % (model.metrics_names[1], score[1]*100))"
   ]
  },
  {
   "cell_type": "markdown",
   "id": "b19cf77f",
   "metadata": {},
   "source": [
    "# New model: drop Disgust and Fear"
   ]
  },
  {
   "cell_type": "code",
   "execution_count": 2,
   "id": "b54dbd37",
   "metadata": {},
   "outputs": [
    {
     "data": {
      "text/html": [
       "<div>\n",
       "<style scoped>\n",
       "    .dataframe tbody tr th:only-of-type {\n",
       "        vertical-align: middle;\n",
       "    }\n",
       "\n",
       "    .dataframe tbody tr th {\n",
       "        vertical-align: top;\n",
       "    }\n",
       "\n",
       "    .dataframe thead th {\n",
       "        text-align: right;\n",
       "    }\n",
       "</style>\n",
       "<table border=\"1\" class=\"dataframe\">\n",
       "  <thead>\n",
       "    <tr style=\"text-align: right;\">\n",
       "      <th></th>\n",
       "      <th>0</th>\n",
       "      <th>1</th>\n",
       "      <th>2</th>\n",
       "      <th>3</th>\n",
       "      <th>4</th>\n",
       "      <th>5</th>\n",
       "      <th>6</th>\n",
       "      <th>7</th>\n",
       "      <th>8</th>\n",
       "      <th>9</th>\n",
       "      <th>...</th>\n",
       "      <th>207</th>\n",
       "      <th>208</th>\n",
       "      <th>209</th>\n",
       "      <th>210</th>\n",
       "      <th>211</th>\n",
       "      <th>212</th>\n",
       "      <th>213</th>\n",
       "      <th>214</th>\n",
       "      <th>215</th>\n",
       "      <th>label</th>\n",
       "    </tr>\n",
       "  </thead>\n",
       "  <tbody>\n",
       "    <tr>\n",
       "      <th>0</th>\n",
       "      <td>-9.620732</td>\n",
       "      <td>-6.468153</td>\n",
       "      <td>-5.925110</td>\n",
       "      <td>-6.729927</td>\n",
       "      <td>-8.394912</td>\n",
       "      <td>-12.471506</td>\n",
       "      <td>-13.474622</td>\n",
       "      <td>-14.074455</td>\n",
       "      <td>-13.747945</td>\n",
       "      <td>-12.962654</td>\n",
       "      <td>...</td>\n",
       "      <td>0.0</td>\n",
       "      <td>0.0</td>\n",
       "      <td>0.0</td>\n",
       "      <td>0.0</td>\n",
       "      <td>0.0</td>\n",
       "      <td>0.0</td>\n",
       "      <td>0.0</td>\n",
       "      <td>0.0</td>\n",
       "      <td>0.0</td>\n",
       "      <td>Angry</td>\n",
       "    </tr>\n",
       "    <tr>\n",
       "      <th>1</th>\n",
       "      <td>-16.037386</td>\n",
       "      <td>-11.193971</td>\n",
       "      <td>-8.674429</td>\n",
       "      <td>-10.208759</td>\n",
       "      <td>-11.293220</td>\n",
       "      <td>-12.851307</td>\n",
       "      <td>-12.869898</td>\n",
       "      <td>-12.397981</td>\n",
       "      <td>-12.449426</td>\n",
       "      <td>-14.081515</td>\n",
       "      <td>...</td>\n",
       "      <td>0.0</td>\n",
       "      <td>0.0</td>\n",
       "      <td>0.0</td>\n",
       "      <td>0.0</td>\n",
       "      <td>0.0</td>\n",
       "      <td>0.0</td>\n",
       "      <td>0.0</td>\n",
       "      <td>0.0</td>\n",
       "      <td>0.0</td>\n",
       "      <td>Disgust</td>\n",
       "    </tr>\n",
       "    <tr>\n",
       "      <th>2</th>\n",
       "      <td>-7.326170</td>\n",
       "      <td>-6.825267</td>\n",
       "      <td>-9.066109</td>\n",
       "      <td>-11.684609</td>\n",
       "      <td>-12.352726</td>\n",
       "      <td>-11.807521</td>\n",
       "      <td>-11.920674</td>\n",
       "      <td>-10.837593</td>\n",
       "      <td>-11.293701</td>\n",
       "      <td>-12.753458</td>\n",
       "      <td>...</td>\n",
       "      <td>0.0</td>\n",
       "      <td>0.0</td>\n",
       "      <td>0.0</td>\n",
       "      <td>0.0</td>\n",
       "      <td>0.0</td>\n",
       "      <td>0.0</td>\n",
       "      <td>0.0</td>\n",
       "      <td>0.0</td>\n",
       "      <td>0.0</td>\n",
       "      <td>Fear</td>\n",
       "    </tr>\n",
       "    <tr>\n",
       "      <th>3</th>\n",
       "      <td>-7.011128</td>\n",
       "      <td>-5.996286</td>\n",
       "      <td>-5.341102</td>\n",
       "      <td>-7.025241</td>\n",
       "      <td>-10.693501</td>\n",
       "      <td>-12.206599</td>\n",
       "      <td>-13.182552</td>\n",
       "      <td>-13.513250</td>\n",
       "      <td>-12.829860</td>\n",
       "      <td>-13.151039</td>\n",
       "      <td>...</td>\n",
       "      <td>0.0</td>\n",
       "      <td>0.0</td>\n",
       "      <td>0.0</td>\n",
       "      <td>0.0</td>\n",
       "      <td>0.0</td>\n",
       "      <td>0.0</td>\n",
       "      <td>0.0</td>\n",
       "      <td>0.0</td>\n",
       "      <td>0.0</td>\n",
       "      <td>Happy</td>\n",
       "    </tr>\n",
       "    <tr>\n",
       "      <th>4</th>\n",
       "      <td>-13.136120</td>\n",
       "      <td>-11.512733</td>\n",
       "      <td>-10.225630</td>\n",
       "      <td>-9.838783</td>\n",
       "      <td>-9.236116</td>\n",
       "      <td>-11.287755</td>\n",
       "      <td>-15.745927</td>\n",
       "      <td>-17.706661</td>\n",
       "      <td>-18.655682</td>\n",
       "      <td>-16.432726</td>\n",
       "      <td>...</td>\n",
       "      <td>0.0</td>\n",
       "      <td>0.0</td>\n",
       "      <td>0.0</td>\n",
       "      <td>0.0</td>\n",
       "      <td>0.0</td>\n",
       "      <td>0.0</td>\n",
       "      <td>0.0</td>\n",
       "      <td>0.0</td>\n",
       "      <td>0.0</td>\n",
       "      <td>Neutral</td>\n",
       "    </tr>\n",
       "  </tbody>\n",
       "</table>\n",
       "<p>5 rows × 217 columns</p>\n",
       "</div>"
      ],
      "text/plain": [
       "           0          1          2          3          4          5  \\\n",
       "0  -9.620732  -6.468153  -5.925110  -6.729927  -8.394912 -12.471506   \n",
       "1 -16.037386 -11.193971  -8.674429 -10.208759 -11.293220 -12.851307   \n",
       "2  -7.326170  -6.825267  -9.066109 -11.684609 -12.352726 -11.807521   \n",
       "3  -7.011128  -5.996286  -5.341102  -7.025241 -10.693501 -12.206599   \n",
       "4 -13.136120 -11.512733 -10.225630  -9.838783  -9.236116 -11.287755   \n",
       "\n",
       "           6          7          8          9  ...  207  208  209  210  211  \\\n",
       "0 -13.474622 -14.074455 -13.747945 -12.962654  ...  0.0  0.0  0.0  0.0  0.0   \n",
       "1 -12.869898 -12.397981 -12.449426 -14.081515  ...  0.0  0.0  0.0  0.0  0.0   \n",
       "2 -11.920674 -10.837593 -11.293701 -12.753458  ...  0.0  0.0  0.0  0.0  0.0   \n",
       "3 -13.182552 -13.513250 -12.829860 -13.151039  ...  0.0  0.0  0.0  0.0  0.0   \n",
       "4 -15.745927 -17.706661 -18.655682 -16.432726  ...  0.0  0.0  0.0  0.0  0.0   \n",
       "\n",
       "   212  213  214  215    label  \n",
       "0  0.0  0.0  0.0  0.0    Angry  \n",
       "1  0.0  0.0  0.0  0.0  Disgust  \n",
       "2  0.0  0.0  0.0  0.0     Fear  \n",
       "3  0.0  0.0  0.0  0.0    Happy  \n",
       "4  0.0  0.0  0.0  0.0  Neutral  \n",
       "\n",
       "[5 rows x 217 columns]"
      ]
     },
     "execution_count": 2,
     "metadata": {},
     "output_type": "execute_result"
    }
   ],
   "source": [
    "df = pd.read_csv('data.csv')\n",
    "df.head()"
   ]
  },
  {
   "cell_type": "code",
   "execution_count": 3,
   "id": "fcbe8fc9",
   "metadata": {},
   "outputs": [
    {
     "data": {
      "text/html": [
       "<div>\n",
       "<style scoped>\n",
       "    .dataframe tbody tr th:only-of-type {\n",
       "        vertical-align: middle;\n",
       "    }\n",
       "\n",
       "    .dataframe tbody tr th {\n",
       "        vertical-align: top;\n",
       "    }\n",
       "\n",
       "    .dataframe thead th {\n",
       "        text-align: right;\n",
       "    }\n",
       "</style>\n",
       "<table border=\"1\" class=\"dataframe\">\n",
       "  <thead>\n",
       "    <tr style=\"text-align: right;\">\n",
       "      <th></th>\n",
       "      <th>0</th>\n",
       "      <th>1</th>\n",
       "      <th>2</th>\n",
       "      <th>3</th>\n",
       "      <th>4</th>\n",
       "      <th>5</th>\n",
       "      <th>6</th>\n",
       "      <th>7</th>\n",
       "      <th>8</th>\n",
       "      <th>9</th>\n",
       "      <th>...</th>\n",
       "      <th>207</th>\n",
       "      <th>208</th>\n",
       "      <th>209</th>\n",
       "      <th>210</th>\n",
       "      <th>211</th>\n",
       "      <th>212</th>\n",
       "      <th>213</th>\n",
       "      <th>214</th>\n",
       "      <th>215</th>\n",
       "      <th>label</th>\n",
       "    </tr>\n",
       "  </thead>\n",
       "  <tbody>\n",
       "    <tr>\n",
       "      <th>0</th>\n",
       "      <td>-9.620732</td>\n",
       "      <td>-6.468153</td>\n",
       "      <td>-5.925110</td>\n",
       "      <td>-6.729927</td>\n",
       "      <td>-8.394912</td>\n",
       "      <td>-12.471506</td>\n",
       "      <td>-13.474622</td>\n",
       "      <td>-14.074455</td>\n",
       "      <td>-13.747945</td>\n",
       "      <td>-12.962654</td>\n",
       "      <td>...</td>\n",
       "      <td>0.0</td>\n",
       "      <td>0.0</td>\n",
       "      <td>0.0</td>\n",
       "      <td>0.0</td>\n",
       "      <td>0.0</td>\n",
       "      <td>0.0</td>\n",
       "      <td>0.0</td>\n",
       "      <td>0.0</td>\n",
       "      <td>0.0</td>\n",
       "      <td>Angry</td>\n",
       "    </tr>\n",
       "    <tr>\n",
       "      <th>2</th>\n",
       "      <td>-7.326170</td>\n",
       "      <td>-6.825267</td>\n",
       "      <td>-9.066109</td>\n",
       "      <td>-11.684609</td>\n",
       "      <td>-12.352726</td>\n",
       "      <td>-11.807521</td>\n",
       "      <td>-11.920674</td>\n",
       "      <td>-10.837593</td>\n",
       "      <td>-11.293701</td>\n",
       "      <td>-12.753458</td>\n",
       "      <td>...</td>\n",
       "      <td>0.0</td>\n",
       "      <td>0.0</td>\n",
       "      <td>0.0</td>\n",
       "      <td>0.0</td>\n",
       "      <td>0.0</td>\n",
       "      <td>0.0</td>\n",
       "      <td>0.0</td>\n",
       "      <td>0.0</td>\n",
       "      <td>0.0</td>\n",
       "      <td>Fear</td>\n",
       "    </tr>\n",
       "    <tr>\n",
       "      <th>3</th>\n",
       "      <td>-7.011128</td>\n",
       "      <td>-5.996286</td>\n",
       "      <td>-5.341102</td>\n",
       "      <td>-7.025241</td>\n",
       "      <td>-10.693501</td>\n",
       "      <td>-12.206599</td>\n",
       "      <td>-13.182552</td>\n",
       "      <td>-13.513250</td>\n",
       "      <td>-12.829860</td>\n",
       "      <td>-13.151039</td>\n",
       "      <td>...</td>\n",
       "      <td>0.0</td>\n",
       "      <td>0.0</td>\n",
       "      <td>0.0</td>\n",
       "      <td>0.0</td>\n",
       "      <td>0.0</td>\n",
       "      <td>0.0</td>\n",
       "      <td>0.0</td>\n",
       "      <td>0.0</td>\n",
       "      <td>0.0</td>\n",
       "      <td>Happy</td>\n",
       "    </tr>\n",
       "    <tr>\n",
       "      <th>4</th>\n",
       "      <td>-13.136120</td>\n",
       "      <td>-11.512733</td>\n",
       "      <td>-10.225630</td>\n",
       "      <td>-9.838783</td>\n",
       "      <td>-9.236116</td>\n",
       "      <td>-11.287755</td>\n",
       "      <td>-15.745927</td>\n",
       "      <td>-17.706661</td>\n",
       "      <td>-18.655682</td>\n",
       "      <td>-16.432726</td>\n",
       "      <td>...</td>\n",
       "      <td>0.0</td>\n",
       "      <td>0.0</td>\n",
       "      <td>0.0</td>\n",
       "      <td>0.0</td>\n",
       "      <td>0.0</td>\n",
       "      <td>0.0</td>\n",
       "      <td>0.0</td>\n",
       "      <td>0.0</td>\n",
       "      <td>0.0</td>\n",
       "      <td>Neutral</td>\n",
       "    </tr>\n",
       "    <tr>\n",
       "      <th>5</th>\n",
       "      <td>-19.662958</td>\n",
       "      <td>-18.617884</td>\n",
       "      <td>-17.667177</td>\n",
       "      <td>-17.853739</td>\n",
       "      <td>-18.893433</td>\n",
       "      <td>-18.003851</td>\n",
       "      <td>-17.977943</td>\n",
       "      <td>-17.410961</td>\n",
       "      <td>-18.032400</td>\n",
       "      <td>-19.424118</td>\n",
       "      <td>...</td>\n",
       "      <td>0.0</td>\n",
       "      <td>0.0</td>\n",
       "      <td>0.0</td>\n",
       "      <td>0.0</td>\n",
       "      <td>0.0</td>\n",
       "      <td>0.0</td>\n",
       "      <td>0.0</td>\n",
       "      <td>0.0</td>\n",
       "      <td>0.0</td>\n",
       "      <td>Sad</td>\n",
       "    </tr>\n",
       "  </tbody>\n",
       "</table>\n",
       "<p>5 rows × 217 columns</p>\n",
       "</div>"
      ],
      "text/plain": [
       "           0          1          2          3          4          5  \\\n",
       "0  -9.620732  -6.468153  -5.925110  -6.729927  -8.394912 -12.471506   \n",
       "2  -7.326170  -6.825267  -9.066109 -11.684609 -12.352726 -11.807521   \n",
       "3  -7.011128  -5.996286  -5.341102  -7.025241 -10.693501 -12.206599   \n",
       "4 -13.136120 -11.512733 -10.225630  -9.838783  -9.236116 -11.287755   \n",
       "5 -19.662958 -18.617884 -17.667177 -17.853739 -18.893433 -18.003851   \n",
       "\n",
       "           6          7          8          9  ...  207  208  209  210  211  \\\n",
       "0 -13.474622 -14.074455 -13.747945 -12.962654  ...  0.0  0.0  0.0  0.0  0.0   \n",
       "2 -11.920674 -10.837593 -11.293701 -12.753458  ...  0.0  0.0  0.0  0.0  0.0   \n",
       "3 -13.182552 -13.513250 -12.829860 -13.151039  ...  0.0  0.0  0.0  0.0  0.0   \n",
       "4 -15.745927 -17.706661 -18.655682 -16.432726  ...  0.0  0.0  0.0  0.0  0.0   \n",
       "5 -17.977943 -17.410961 -18.032400 -19.424118  ...  0.0  0.0  0.0  0.0  0.0   \n",
       "\n",
       "   212  213  214  215    label  \n",
       "0  0.0  0.0  0.0  0.0    Angry  \n",
       "2  0.0  0.0  0.0  0.0     Fear  \n",
       "3  0.0  0.0  0.0  0.0    Happy  \n",
       "4  0.0  0.0  0.0  0.0  Neutral  \n",
       "5  0.0  0.0  0.0  0.0      Sad  \n",
       "\n",
       "[5 rows x 217 columns]"
      ]
     },
     "execution_count": 3,
     "metadata": {},
     "output_type": "execute_result"
    }
   ],
   "source": [
    "df_new = df[df.label != 'Disgust']\n",
    "df_new.head()"
   ]
  },
  {
   "cell_type": "code",
   "execution_count": 4,
   "id": "0090a94e",
   "metadata": {},
   "outputs": [
    {
     "data": {
      "text/html": [
       "<div>\n",
       "<style scoped>\n",
       "    .dataframe tbody tr th:only-of-type {\n",
       "        vertical-align: middle;\n",
       "    }\n",
       "\n",
       "    .dataframe tbody tr th {\n",
       "        vertical-align: top;\n",
       "    }\n",
       "\n",
       "    .dataframe thead th {\n",
       "        text-align: right;\n",
       "    }\n",
       "</style>\n",
       "<table border=\"1\" class=\"dataframe\">\n",
       "  <thead>\n",
       "    <tr style=\"text-align: right;\">\n",
       "      <th></th>\n",
       "      <th>0</th>\n",
       "      <th>1</th>\n",
       "      <th>2</th>\n",
       "      <th>3</th>\n",
       "      <th>4</th>\n",
       "      <th>5</th>\n",
       "      <th>6</th>\n",
       "      <th>7</th>\n",
       "      <th>8</th>\n",
       "      <th>9</th>\n",
       "      <th>...</th>\n",
       "      <th>207</th>\n",
       "      <th>208</th>\n",
       "      <th>209</th>\n",
       "      <th>210</th>\n",
       "      <th>211</th>\n",
       "      <th>212</th>\n",
       "      <th>213</th>\n",
       "      <th>214</th>\n",
       "      <th>215</th>\n",
       "      <th>label</th>\n",
       "    </tr>\n",
       "  </thead>\n",
       "  <tbody>\n",
       "    <tr>\n",
       "      <th>0</th>\n",
       "      <td>-9.620732</td>\n",
       "      <td>-6.468153</td>\n",
       "      <td>-5.925110</td>\n",
       "      <td>-6.729927</td>\n",
       "      <td>-8.394912</td>\n",
       "      <td>-12.471506</td>\n",
       "      <td>-13.474622</td>\n",
       "      <td>-14.074455</td>\n",
       "      <td>-13.747945</td>\n",
       "      <td>-12.962654</td>\n",
       "      <td>...</td>\n",
       "      <td>0.0</td>\n",
       "      <td>0.0</td>\n",
       "      <td>0.0</td>\n",
       "      <td>0.0</td>\n",
       "      <td>0.0</td>\n",
       "      <td>0.0</td>\n",
       "      <td>0.0</td>\n",
       "      <td>0.0</td>\n",
       "      <td>0.0</td>\n",
       "      <td>Angry</td>\n",
       "    </tr>\n",
       "    <tr>\n",
       "      <th>3</th>\n",
       "      <td>-7.011128</td>\n",
       "      <td>-5.996286</td>\n",
       "      <td>-5.341102</td>\n",
       "      <td>-7.025241</td>\n",
       "      <td>-10.693501</td>\n",
       "      <td>-12.206599</td>\n",
       "      <td>-13.182552</td>\n",
       "      <td>-13.513250</td>\n",
       "      <td>-12.829860</td>\n",
       "      <td>-13.151039</td>\n",
       "      <td>...</td>\n",
       "      <td>0.0</td>\n",
       "      <td>0.0</td>\n",
       "      <td>0.0</td>\n",
       "      <td>0.0</td>\n",
       "      <td>0.0</td>\n",
       "      <td>0.0</td>\n",
       "      <td>0.0</td>\n",
       "      <td>0.0</td>\n",
       "      <td>0.0</td>\n",
       "      <td>Happy</td>\n",
       "    </tr>\n",
       "    <tr>\n",
       "      <th>4</th>\n",
       "      <td>-13.136120</td>\n",
       "      <td>-11.512733</td>\n",
       "      <td>-10.225630</td>\n",
       "      <td>-9.838783</td>\n",
       "      <td>-9.236116</td>\n",
       "      <td>-11.287755</td>\n",
       "      <td>-15.745927</td>\n",
       "      <td>-17.706661</td>\n",
       "      <td>-18.655682</td>\n",
       "      <td>-16.432726</td>\n",
       "      <td>...</td>\n",
       "      <td>0.0</td>\n",
       "      <td>0.0</td>\n",
       "      <td>0.0</td>\n",
       "      <td>0.0</td>\n",
       "      <td>0.0</td>\n",
       "      <td>0.0</td>\n",
       "      <td>0.0</td>\n",
       "      <td>0.0</td>\n",
       "      <td>0.0</td>\n",
       "      <td>Neutral</td>\n",
       "    </tr>\n",
       "    <tr>\n",
       "      <th>5</th>\n",
       "      <td>-19.662958</td>\n",
       "      <td>-18.617884</td>\n",
       "      <td>-17.667177</td>\n",
       "      <td>-17.853739</td>\n",
       "      <td>-18.893433</td>\n",
       "      <td>-18.003851</td>\n",
       "      <td>-17.977943</td>\n",
       "      <td>-17.410961</td>\n",
       "      <td>-18.032400</td>\n",
       "      <td>-19.424118</td>\n",
       "      <td>...</td>\n",
       "      <td>0.0</td>\n",
       "      <td>0.0</td>\n",
       "      <td>0.0</td>\n",
       "      <td>0.0</td>\n",
       "      <td>0.0</td>\n",
       "      <td>0.0</td>\n",
       "      <td>0.0</td>\n",
       "      <td>0.0</td>\n",
       "      <td>0.0</td>\n",
       "      <td>Sad</td>\n",
       "    </tr>\n",
       "    <tr>\n",
       "      <th>6</th>\n",
       "      <td>-12.876459</td>\n",
       "      <td>-12.214508</td>\n",
       "      <td>-13.006983</td>\n",
       "      <td>-12.768882</td>\n",
       "      <td>-10.208920</td>\n",
       "      <td>-9.869619</td>\n",
       "      <td>-10.150848</td>\n",
       "      <td>-9.379992</td>\n",
       "      <td>-10.011309</td>\n",
       "      <td>-11.522171</td>\n",
       "      <td>...</td>\n",
       "      <td>0.0</td>\n",
       "      <td>0.0</td>\n",
       "      <td>0.0</td>\n",
       "      <td>0.0</td>\n",
       "      <td>0.0</td>\n",
       "      <td>0.0</td>\n",
       "      <td>0.0</td>\n",
       "      <td>0.0</td>\n",
       "      <td>0.0</td>\n",
       "      <td>Angry</td>\n",
       "    </tr>\n",
       "  </tbody>\n",
       "</table>\n",
       "<p>5 rows × 217 columns</p>\n",
       "</div>"
      ],
      "text/plain": [
       "           0          1          2          3          4          5  \\\n",
       "0  -9.620732  -6.468153  -5.925110  -6.729927  -8.394912 -12.471506   \n",
       "3  -7.011128  -5.996286  -5.341102  -7.025241 -10.693501 -12.206599   \n",
       "4 -13.136120 -11.512733 -10.225630  -9.838783  -9.236116 -11.287755   \n",
       "5 -19.662958 -18.617884 -17.667177 -17.853739 -18.893433 -18.003851   \n",
       "6 -12.876459 -12.214508 -13.006983 -12.768882 -10.208920  -9.869619   \n",
       "\n",
       "           6          7          8          9  ...  207  208  209  210  211  \\\n",
       "0 -13.474622 -14.074455 -13.747945 -12.962654  ...  0.0  0.0  0.0  0.0  0.0   \n",
       "3 -13.182552 -13.513250 -12.829860 -13.151039  ...  0.0  0.0  0.0  0.0  0.0   \n",
       "4 -15.745927 -17.706661 -18.655682 -16.432726  ...  0.0  0.0  0.0  0.0  0.0   \n",
       "5 -17.977943 -17.410961 -18.032400 -19.424118  ...  0.0  0.0  0.0  0.0  0.0   \n",
       "6 -10.150848  -9.379992 -10.011309 -11.522171  ...  0.0  0.0  0.0  0.0  0.0   \n",
       "\n",
       "   212  213  214  215    label  \n",
       "0  0.0  0.0  0.0  0.0    Angry  \n",
       "3  0.0  0.0  0.0  0.0    Happy  \n",
       "4  0.0  0.0  0.0  0.0  Neutral  \n",
       "5  0.0  0.0  0.0  0.0      Sad  \n",
       "6  0.0  0.0  0.0  0.0    Angry  \n",
       "\n",
       "[5 rows x 217 columns]"
      ]
     },
     "execution_count": 4,
     "metadata": {},
     "output_type": "execute_result"
    }
   ],
   "source": [
    "df_new = df_new[df_new.label != 'Fear']\n",
    "df_new.head()"
   ]
  },
  {
   "cell_type": "code",
   "execution_count": 5,
   "id": "78fcf5d1",
   "metadata": {},
   "outputs": [
    {
     "data": {
      "text/plain": [
       "4"
      ]
     },
     "execution_count": 5,
     "metadata": {},
     "output_type": "execute_result"
    }
   ],
   "source": [
    "classes_new = df_new.label.nunique()\n",
    "classes_new"
   ]
  },
  {
   "cell_type": "code",
   "execution_count": 6,
   "id": "cb0a1a14",
   "metadata": {},
   "outputs": [],
   "source": [
    "X_train_new, X_test_new, y_train_new, y_test_new = train_test_split(df_new.drop(['label'],axis=1)\n",
    "                                                    , df_new.label\n",
    "                                                    , test_size=0.2\n",
    "                                                    , shuffle=True\n",
    "                                                    , random_state=42\n",
    "                                                   )"
   ]
  },
  {
   "cell_type": "code",
   "execution_count": 7,
   "id": "18ab576c",
   "metadata": {},
   "outputs": [
    {
     "name": "stdout",
     "output_type": "stream",
     "text": [
      "X_train shape: (3920, 216)\n",
      "y_train shape: (3920,)\n",
      "X_test shape: (980, 216)\n",
      "y_test shape: (980,)\n",
      "X_train %: 0.8\n",
      "X_train %: 0.2\n"
     ]
    }
   ],
   "source": [
    "# Check out the data\n",
    "print(f'X_train shape: {X_train_new.shape}')\n",
    "print(f'y_train shape: {y_train_new.shape}')\n",
    "print(f'X_test shape: {X_test_new.shape}')\n",
    "print(f'y_test shape: {y_test_new.shape}')\n",
    "print(f'X_train %: {X_train_new.shape[0] / (X_train_new.shape[0] + X_test_new.shape[0])}')\n",
    "print(f'X_train %: {X_test_new.shape[0] / (X_train_new.shape[0] + X_test_new.shape[0])}')"
   ]
  },
  {
   "cell_type": "code",
   "execution_count": 13,
   "id": "f99126ae",
   "metadata": {},
   "outputs": [],
   "source": [
    "# Lets few preparation steps to get it into the correct format for Keras \n",
    "X_traincnn_new = np.array(X_train_new)\n",
    "y_traincnn_new = np.array(y_train_new)\n",
    "X_testcnn_new = np.array(X_test_new)\n",
    "y_testcnn_new = np.array(y_test_new)\n",
    "\n",
    "# one hot encode the target \n",
    "lb = LabelEncoder()\n",
    "y_traincnn_new = np_utils.to_categorical(lb.fit_transform(y_traincnn_new))\n",
    "y_testcnn_new = np_utils.to_categorical(lb.fit_transform(y_testcnn_new))"
   ]
  },
  {
   "cell_type": "code",
   "execution_count": 14,
   "id": "c762e8be",
   "metadata": {},
   "outputs": [
    {
     "data": {
      "text/plain": [
       "(3920, 216, 1)"
      ]
     },
     "execution_count": 14,
     "metadata": {},
     "output_type": "execute_result"
    }
   ],
   "source": [
    "X_traincnn_new = np.expand_dims(X_traincnn_new, axis=2)\n",
    "X_testcnn_new = np.expand_dims(X_testcnn_new, axis=2)\n",
    "X_traincnn_new.shape"
   ]
  },
  {
   "cell_type": "code",
   "execution_count": 16,
   "id": "c116f3da",
   "metadata": {},
   "outputs": [
    {
     "name": "stdout",
     "output_type": "stream",
     "text": [
      "Model: \"sequential_1\"\n",
      "_________________________________________________________________\n",
      "Layer (type)                 Output Shape              Param #   \n",
      "=================================================================\n",
      "conv1d (Conv1D)              (None, 216, 256)          2304      \n",
      "_________________________________________________________________\n",
      "activation (Activation)      (None, 216, 256)          0         \n",
      "_________________________________________________________________\n",
      "conv1d_1 (Conv1D)            (None, 216, 256)          524544    \n",
      "_________________________________________________________________\n",
      "batch_normalization (BatchNo (None, 216, 256)          1024      \n",
      "_________________________________________________________________\n",
      "activation_1 (Activation)    (None, 216, 256)          0         \n",
      "_________________________________________________________________\n",
      "dropout (Dropout)            (None, 216, 256)          0         \n",
      "_________________________________________________________________\n",
      "max_pooling1d (MaxPooling1D) (None, 27, 256)           0         \n",
      "_________________________________________________________________\n",
      "conv1d_2 (Conv1D)            (None, 27, 128)           262272    \n",
      "_________________________________________________________________\n",
      "activation_2 (Activation)    (None, 27, 128)           0         \n",
      "_________________________________________________________________\n",
      "conv1d_3 (Conv1D)            (None, 27, 128)           131200    \n",
      "_________________________________________________________________\n",
      "activation_3 (Activation)    (None, 27, 128)           0         \n",
      "_________________________________________________________________\n",
      "conv1d_4 (Conv1D)            (None, 27, 128)           131200    \n",
      "_________________________________________________________________\n",
      "activation_4 (Activation)    (None, 27, 128)           0         \n",
      "_________________________________________________________________\n",
      "conv1d_5 (Conv1D)            (None, 27, 128)           131200    \n",
      "_________________________________________________________________\n",
      "batch_normalization_1 (Batch (None, 27, 128)           512       \n",
      "_________________________________________________________________\n",
      "activation_5 (Activation)    (None, 27, 128)           0         \n",
      "_________________________________________________________________\n",
      "dropout_1 (Dropout)          (None, 27, 128)           0         \n",
      "_________________________________________________________________\n",
      "max_pooling1d_1 (MaxPooling1 (None, 3, 128)            0         \n",
      "_________________________________________________________________\n",
      "conv1d_6 (Conv1D)            (None, 3, 64)             65600     \n",
      "_________________________________________________________________\n",
      "activation_6 (Activation)    (None, 3, 64)             0         \n",
      "_________________________________________________________________\n",
      "conv1d_7 (Conv1D)            (None, 3, 64)             32832     \n",
      "_________________________________________________________________\n",
      "activation_7 (Activation)    (None, 3, 64)             0         \n",
      "_________________________________________________________________\n",
      "flatten (Flatten)            (None, 192)               0         \n",
      "_________________________________________________________________\n",
      "dense (Dense)                (None, 4)                 772       \n",
      "_________________________________________________________________\n",
      "activation_8 (Activation)    (None, 4)                 0         \n",
      "=================================================================\n",
      "Total params: 1,283,460\n",
      "Trainable params: 1,282,692\n",
      "Non-trainable params: 768\n",
      "_________________________________________________________________\n"
     ]
    }
   ],
   "source": [
    "# New model\n",
    "model = Sequential()\n",
    "model.add(Conv1D(256, 8, padding='same',input_shape=(X_traincnn_new.shape[1],1)))  # X_train.shape[1] = No. of Columns\n",
    "model.add(Activation('relu'))\n",
    "model.add(Conv1D(256, 8, padding='same'))\n",
    "model.add(BatchNormalization())\n",
    "model.add(Activation('relu'))\n",
    "model.add(Dropout(0.25))\n",
    "model.add(MaxPooling1D(pool_size=(8)))\n",
    "model.add(Conv1D(128, 8, padding='same'))\n",
    "model.add(Activation('relu'))\n",
    "model.add(Conv1D(128, 8, padding='same'))\n",
    "model.add(Activation('relu'))\n",
    "model.add(Conv1D(128, 8, padding='same'))\n",
    "model.add(Activation('relu'))\n",
    "model.add(Conv1D(128, 8, padding='same'))\n",
    "model.add(BatchNormalization())\n",
    "model.add(Activation('relu'))\n",
    "model.add(Dropout(0.25))\n",
    "model.add(MaxPooling1D(pool_size=(8)))\n",
    "model.add(Conv1D(64, 8, padding='same'))\n",
    "model.add(Activation('relu'))\n",
    "model.add(Conv1D(64, 8, padding='same'))\n",
    "model.add(Activation('relu'))\n",
    "model.add(Flatten())\n",
    "model.add(Dense(classes_new)) # Target class number\n",
    "model.add(Activation('softmax'))\n",
    "# opt = keras.optimizers.SGD(lr=0.0001, momentum=0.0, decay=0.0, nesterov=False)\n",
    "# opt = keras.optimizers.Adam(lr=0.0001)\n",
    "opt = keras.optimizers.RMSprop(lr=0.001, decay=1e-6)\n",
    "model.summary()"
   ]
  },
  {
   "cell_type": "code",
   "execution_count": 17,
   "id": "756106d8",
   "metadata": {},
   "outputs": [
    {
     "name": "stdout",
     "output_type": "stream",
     "text": [
      "Epoch 1/10\n",
      "245/245 [==============================] - 33s 128ms/step - loss: 1.2106 - accuracy: 0.4378 - val_loss: 1.2793 - val_accuracy: 0.4633\n",
      "Epoch 2/10\n",
      "245/245 [==============================] - 32s 129ms/step - loss: 1.1052 - accuracy: 0.5254 - val_loss: 1.1417 - val_accuracy: 0.5327\n",
      "Epoch 3/10\n",
      "245/245 [==============================] - 32s 130ms/step - loss: 1.0751 - accuracy: 0.5115 - val_loss: 1.0861 - val_accuracy: 0.5235\n",
      "Epoch 4/10\n",
      "245/245 [==============================] - 32s 130ms/step - loss: 1.0243 - accuracy: 0.5567 - val_loss: 1.1041 - val_accuracy: 0.5092\n",
      "Epoch 5/10\n",
      "245/245 [==============================] - 32s 129ms/step - loss: 1.0294 - accuracy: 0.5589 - val_loss: 1.0861 - val_accuracy: 0.5286\n",
      "Epoch 6/10\n",
      "245/245 [==============================] - 32s 129ms/step - loss: 1.0185 - accuracy: 0.5668 - val_loss: 1.0347 - val_accuracy: 0.5327\n",
      "Epoch 7/10\n",
      "245/245 [==============================] - 32s 131ms/step - loss: 1.0065 - accuracy: 0.5613 - val_loss: 1.0605 - val_accuracy: 0.5224\n",
      "Epoch 8/10\n",
      "245/245 [==============================] - 34s 139ms/step - loss: 1.0006 - accuracy: 0.5641 - val_loss: 1.0625 - val_accuracy: 0.5061\n",
      "Epoch 9/10\n",
      "245/245 [==============================] - 33s 136ms/step - loss: 0.9907 - accuracy: 0.5693 - val_loss: 1.0944 - val_accuracy: 0.4786\n",
      "Epoch 10/10\n",
      "245/245 [==============================] - 32s 130ms/step - loss: 0.9771 - accuracy: 0.5715 - val_loss: 1.0782 - val_accuracy: 0.4980\n"
     ]
    }
   ],
   "source": [
    "model.compile(loss='categorical_crossentropy', optimizer=opt,metrics=['accuracy'])\n",
    "model_history=model.fit(X_traincnn_new, y_traincnn_new, batch_size=16, epochs=10, validation_data=(X_testcnn_new, y_testcnn_new))"
   ]
  },
  {
   "cell_type": "code",
   "execution_count": 18,
   "id": "89820848",
   "metadata": {
    "scrolled": true
   },
   "outputs": [
    {
     "name": "stdout",
     "output_type": "stream",
     "text": [
      "62/62 [==============================] - 2s 28ms/step\n"
     ]
    }
   ],
   "source": [
    "model_pred = model.predict(X_testcnn_new, batch_size=16, verbose=1)"
   ]
  },
  {
   "cell_type": "code",
   "execution_count": 19,
   "id": "3b9834b0",
   "metadata": {},
   "outputs": [
    {
     "data": {
      "text/plain": [
       "array([0, 0, 0, 0, 0, 2, 0, 1, 0, 0, 1, 3, 3, 2, 3, 2, 3, 2, 3, 0, 0, 1,\n",
       "       3, 0, 3, 0, 3, 0, 3, 2, 1, 1, 3, 0, 0, 0, 1, 0, 2, 0, 3, 3, 2, 0,\n",
       "       0, 3, 2, 3, 2, 1, 1, 2, 2, 0, 2, 0, 3, 0, 0, 0, 0, 1, 1, 0, 2, 0,\n",
       "       3, 2, 0, 3, 0, 0, 0, 0, 0, 3, 0, 2, 0, 1, 0, 2, 0, 0, 3, 2, 1, 2,\n",
       "       0, 1, 0, 2, 0, 0, 1, 2, 1, 0, 0, 0, 0, 2, 2, 0, 2, 0, 3, 1, 2, 1,\n",
       "       3, 2, 2, 0, 0, 0, 3, 2, 0, 3, 2, 1, 2, 3, 0, 0, 0, 2, 3, 0, 2, 0,\n",
       "       0, 2, 0, 0, 3, 3, 1, 0, 3, 0, 0, 0, 1, 0, 3, 3, 0, 1, 0, 0, 1, 1,\n",
       "       0, 0, 2, 0, 0, 2, 0, 2, 0, 0, 2, 0, 3, 2, 2, 0, 0, 2, 0, 3, 0, 0,\n",
       "       3, 1, 1, 1, 0, 3, 0, 1, 2, 3, 0, 1, 3, 0, 3, 2, 0, 2, 2, 2, 0, 0,\n",
       "       0, 0, 2, 1, 2, 0, 0, 0, 0, 2, 2, 0, 0, 0, 0, 2, 0, 0, 1, 0, 1, 2,\n",
       "       1, 0, 0, 2, 2, 0, 0, 2, 1, 3, 0, 0, 3, 1, 2, 2, 0, 0, 2, 0, 0, 0,\n",
       "       1, 0, 2, 3, 0, 0, 1, 2, 3, 3, 0, 2, 0, 0, 0, 0, 2, 0, 2, 0, 2, 1,\n",
       "       0, 2, 1, 3, 0, 1, 0, 0, 2, 3, 3, 0, 2, 0, 0, 1, 0, 0, 2, 3, 3, 2,\n",
       "       3, 3, 0, 2, 0, 0, 3, 0, 0, 2, 2, 0, 1, 1, 3, 0, 0, 2, 1, 0, 0, 1,\n",
       "       3, 2, 0, 3, 3, 3, 0, 2, 0, 0, 0, 2, 2, 0, 0, 1, 2, 0, 0, 3, 0, 2,\n",
       "       1, 2, 2, 2, 0, 3, 1, 2, 0, 0, 0, 2, 0, 0, 2, 0, 2, 3, 0, 3, 2, 0,\n",
       "       0, 2, 2, 2, 0, 3, 0, 0, 2, 0, 0, 0, 3, 3, 0, 3, 0, 0, 2, 0, 2, 0,\n",
       "       1, 3, 0, 3, 0, 0, 0, 3, 0, 0, 1, 3, 0, 0, 3, 0, 2, 0, 0, 1, 0, 3,\n",
       "       0, 0, 0, 0, 0, 2, 3, 1, 3, 0, 1, 3, 0, 0, 2, 0, 0, 0, 0, 3, 2, 1,\n",
       "       3, 0, 2, 3, 3, 3, 2, 2, 2, 0, 0, 3, 3, 0, 1, 0, 2, 2, 3, 3, 0, 2,\n",
       "       0, 1, 0, 0, 2, 3, 0, 1, 2, 1, 3, 0, 0, 0, 0, 2, 2, 0, 3, 0, 2, 3,\n",
       "       3, 0, 3, 0, 2, 3, 2, 3, 3, 0, 2, 1, 2, 1, 1, 3, 2, 3, 0, 3, 0, 2,\n",
       "       3, 2, 2, 0, 3, 0, 0, 0, 2, 2, 0, 1, 0, 0, 2, 0, 2, 2, 1, 2, 0, 2,\n",
       "       0, 2, 2, 1, 2, 3, 2, 2, 0, 0, 2, 0, 0, 0, 0, 0, 0, 2, 1, 0, 3, 1,\n",
       "       0, 3, 2, 0, 3, 2, 0, 3, 0, 0, 2, 0, 0, 2, 3, 0, 3, 3, 0, 1, 3, 1,\n",
       "       3, 2, 2, 1, 0, 1, 0, 0, 0, 0, 2, 2, 3, 0, 0, 3, 1, 1, 0, 2, 3, 0,\n",
       "       0, 0, 0, 0, 2, 3, 0, 2, 1, 0, 1, 3, 1, 0, 2, 0, 2, 2, 0, 2, 3, 0,\n",
       "       2, 0, 0, 0, 0, 1, 0, 3, 0, 0, 0, 2, 2, 0, 2, 3, 3, 0, 2, 2, 3, 0,\n",
       "       0, 2, 2, 0, 0, 0, 0, 2, 0, 2, 0, 0, 3, 2, 0, 2, 3, 0, 0, 2, 0, 0,\n",
       "       0, 0, 2, 0, 0, 2, 1, 0, 0, 0, 3, 3, 0, 0, 0, 0, 3, 0, 0, 1, 3, 2,\n",
       "       0, 0, 2, 2, 3, 0, 1, 0, 0, 0, 0, 2, 0, 0, 2, 2, 1, 3, 0, 3, 0, 2,\n",
       "       0, 0, 0, 3, 0, 0, 0, 0, 0, 2, 3, 0, 2, 2, 3, 0, 0, 2, 3, 3, 0, 0,\n",
       "       2, 0, 0, 2, 2, 2, 3, 0, 0, 0, 0, 1, 3, 0, 0, 0, 2, 0, 0, 2, 1, 0,\n",
       "       0, 2, 0, 3, 1, 0, 2, 0, 0, 2, 3, 0, 0, 2, 3, 0, 2, 2, 0, 0, 2, 1,\n",
       "       3, 0, 3, 0, 0, 0, 0, 3, 3, 0, 0, 0, 0, 0, 2, 1, 3, 2, 3, 0, 3, 2,\n",
       "       2, 0, 0, 3, 0, 0, 0, 0, 2, 2, 3, 3, 2, 0, 3, 0, 0, 0, 2, 0, 0, 0,\n",
       "       2, 0, 0, 3, 0, 2, 3, 0, 0, 2, 0, 3, 0, 2, 3, 0, 3, 3, 0, 3, 3, 1,\n",
       "       3, 0, 3, 3, 0, 0, 1, 3, 0, 1, 1, 2, 0, 0, 0, 2, 0, 0, 3, 2, 3, 3,\n",
       "       0, 0, 0, 2, 0, 0, 0, 2, 0, 2, 2, 3, 1, 3, 2, 3, 0, 0, 3, 1, 0, 1,\n",
       "       0, 0, 0, 2, 2, 0, 1, 0, 0, 2, 3, 0, 1, 0, 2, 1, 0, 0, 2, 2, 1, 0,\n",
       "       0, 3, 2, 0, 1, 0, 2, 0, 0, 0, 2, 3, 2, 2, 3, 0, 0, 2, 0, 0, 3, 0,\n",
       "       0, 1, 0, 0, 2, 1, 0, 3, 3, 2, 2, 2, 0, 0, 0, 1, 0, 0, 2, 0, 2, 3,\n",
       "       0, 1, 0, 0, 3, 0, 0, 3, 2, 0, 0, 2, 3, 0, 0, 0, 0, 2, 0, 0, 1, 2,\n",
       "       2, 1, 1, 0, 0, 0, 3, 0, 3, 0, 0, 2, 0, 2, 1, 0, 0, 3, 2, 3, 0, 1,\n",
       "       3, 1, 0, 0, 0, 3, 1, 0, 2, 0, 0, 1])"
      ]
     },
     "execution_count": 19,
     "metadata": {},
     "output_type": "execute_result"
    }
   ],
   "source": [
    "model_pred=model_pred.argmax(axis=1)\n",
    "model_pred"
   ]
  },
  {
   "cell_type": "code",
   "execution_count": 20,
   "id": "18b61d86",
   "metadata": {
    "scrolled": true
   },
   "outputs": [
    {
     "data": {
      "text/plain": [
       "(980,)"
      ]
     },
     "execution_count": 20,
     "metadata": {},
     "output_type": "execute_result"
    }
   ],
   "source": [
    "model_pred.shape"
   ]
  },
  {
   "cell_type": "code",
   "execution_count": 22,
   "id": "95a44685",
   "metadata": {},
   "outputs": [
    {
     "data": {
      "text/plain": [
       "(980,)"
      ]
     },
     "execution_count": 22,
     "metadata": {},
     "output_type": "execute_result"
    }
   ],
   "source": [
    "y_testf = y_testcnn_new.argmax(axis=1)\n",
    "y_testf\n",
    "y_testf.shape"
   ]
  },
  {
   "cell_type": "code",
   "execution_count": 23,
   "id": "10760e37",
   "metadata": {},
   "outputs": [
    {
     "data": {
      "text/plain": [
       "0.49795918367346936"
      ]
     },
     "execution_count": 23,
     "metadata": {},
     "output_type": "execute_result"
    }
   ],
   "source": [
    "accuracy_score(model_pred, y_testf)"
   ]
  },
  {
   "cell_type": "code",
   "execution_count": 24,
   "id": "be181d99",
   "metadata": {},
   "outputs": [
    {
     "data": {
      "image/png": "[encoded data removed]",
      "text/plain": [
       "<Figure size 432x288 with 1 Axes>"
      ]
     },
     "metadata": {
      "needs_background": "light"
     },
     "output_type": "display_data"
    }
   ],
   "source": [
    "plt.plot(model_history.history['loss'])\n",
    "plt.plot(model_history.history['val_loss'])\n",
    "plt.title('model loss')\n",
    "plt.ylabel('loss')\n",
    "plt.xlabel('epoch')\n",
    "plt.legend(['train', 'test'], loc='upper left')\n",
    "plt.show()"
   ]
  },
  {
   "cell_type": "code",
   "execution_count": 27,
   "id": "fb6b16a5",
   "metadata": {
    "scrolled": false
   },
   "outputs": [
    {
     "name": "stdout",
     "output_type": "stream",
     "text": [
      "accuracy: 49.80%\n"
     ]
    }
   ],
   "source": [
    "score = model.evaluate(X_testcnn_new, y_testcnn_new, verbose=0)\n",
    "print(\"%s: %.2f%%\" % (model.metrics_names[1], score[1]*100))"
   ]
  }
 ],
 "metadata": {
  "kernelspec": {
   "display_name": "Python 3",
   "language": "python",
   "name": "python3"
  },
  "language_info": {
   "codemirror_mode": {
    "name": "ipython",
    "version": 3
   },
   "file_extension": ".py",
   "mimetype": "text/x-python",
   "name": "python",
   "nbconvert_exporter": "python",
   "pygments_lexer": "ipython3",
   "version": "3.8.3"
  }
 },
 "nbformat": 4,
 "nbformat_minor": 5
}
