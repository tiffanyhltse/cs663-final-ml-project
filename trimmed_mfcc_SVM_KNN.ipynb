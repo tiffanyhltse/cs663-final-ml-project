{
 "cells": [
  {
   "cell_type": "code",
   "execution_count": 1,
   "metadata": {},
   "outputs": [],
   "source": [
    "import numpy as np\n",
    "import pandas as pd\n",
    "import seaborn as sns\n",
    "import matplotlib.pyplot as plt\n",
    "from sklearn.model_selection import train_test_split\n",
    "from sklearn.model_selection import KFold\n",
    "\n",
    "from sklearn.metrics import confusion_matrix\n",
    "from sklearn.metrics import plot_confusion_matrix\n",
    "from sklearn.metrics import classification_report"
   ]
  },
  {
   "cell_type": "markdown",
   "metadata": {},
   "source": [
    "## Load Data"
   ]
  },
  {
   "cell_type": "code",
   "execution_count": 2,
   "metadata": {},
   "outputs": [
    {
     "data": {
      "text/html": [
       "<div>\n",
       "<style scoped>\n",
       "    .dataframe tbody tr th:only-of-type {\n",
       "        vertical-align: middle;\n",
       "    }\n",
       "\n",
       "    .dataframe tbody tr th {\n",
       "        vertical-align: top;\n",
       "    }\n",
       "\n",
       "    .dataframe thead th {\n",
       "        text-align: right;\n",
       "    }\n",
       "</style>\n",
       "<table border=\"1\" class=\"dataframe\">\n",
       "  <thead>\n",
       "    <tr style=\"text-align: right;\">\n",
       "      <th></th>\n",
       "      <th>0</th>\n",
       "      <th>1</th>\n",
       "      <th>2</th>\n",
       "      <th>3</th>\n",
       "      <th>4</th>\n",
       "      <th>5</th>\n",
       "      <th>6</th>\n",
       "      <th>7</th>\n",
       "      <th>8</th>\n",
       "      <th>9</th>\n",
       "      <th>...</th>\n",
       "      <th>207</th>\n",
       "      <th>208</th>\n",
       "      <th>209</th>\n",
       "      <th>210</th>\n",
       "      <th>211</th>\n",
       "      <th>212</th>\n",
       "      <th>213</th>\n",
       "      <th>214</th>\n",
       "      <th>215</th>\n",
       "      <th>label</th>\n",
       "    </tr>\n",
       "  </thead>\n",
       "  <tbody>\n",
       "    <tr>\n",
       "      <th>0</th>\n",
       "      <td>-9.620732</td>\n",
       "      <td>-6.468153</td>\n",
       "      <td>-5.925110</td>\n",
       "      <td>-6.729927</td>\n",
       "      <td>-8.394912</td>\n",
       "      <td>-12.471506</td>\n",
       "      <td>-13.474622</td>\n",
       "      <td>-14.074455</td>\n",
       "      <td>-13.747945</td>\n",
       "      <td>-12.962654</td>\n",
       "      <td>...</td>\n",
       "      <td>0.0</td>\n",
       "      <td>0.0</td>\n",
       "      <td>0.0</td>\n",
       "      <td>0.0</td>\n",
       "      <td>0.0</td>\n",
       "      <td>0.0</td>\n",
       "      <td>0.0</td>\n",
       "      <td>0.0</td>\n",
       "      <td>0.0</td>\n",
       "      <td>Angry</td>\n",
       "    </tr>\n",
       "    <tr>\n",
       "      <th>1</th>\n",
       "      <td>-16.037386</td>\n",
       "      <td>-11.193971</td>\n",
       "      <td>-8.674429</td>\n",
       "      <td>-10.208759</td>\n",
       "      <td>-11.293220</td>\n",
       "      <td>-12.851307</td>\n",
       "      <td>-12.869898</td>\n",
       "      <td>-12.397981</td>\n",
       "      <td>-12.449426</td>\n",
       "      <td>-14.081515</td>\n",
       "      <td>...</td>\n",
       "      <td>0.0</td>\n",
       "      <td>0.0</td>\n",
       "      <td>0.0</td>\n",
       "      <td>0.0</td>\n",
       "      <td>0.0</td>\n",
       "      <td>0.0</td>\n",
       "      <td>0.0</td>\n",
       "      <td>0.0</td>\n",
       "      <td>0.0</td>\n",
       "      <td>Disgust</td>\n",
       "    </tr>\n",
       "    <tr>\n",
       "      <th>2</th>\n",
       "      <td>-7.326170</td>\n",
       "      <td>-6.825267</td>\n",
       "      <td>-9.066109</td>\n",
       "      <td>-11.684609</td>\n",
       "      <td>-12.352726</td>\n",
       "      <td>-11.807521</td>\n",
       "      <td>-11.920674</td>\n",
       "      <td>-10.837593</td>\n",
       "      <td>-11.293701</td>\n",
       "      <td>-12.753458</td>\n",
       "      <td>...</td>\n",
       "      <td>0.0</td>\n",
       "      <td>0.0</td>\n",
       "      <td>0.0</td>\n",
       "      <td>0.0</td>\n",
       "      <td>0.0</td>\n",
       "      <td>0.0</td>\n",
       "      <td>0.0</td>\n",
       "      <td>0.0</td>\n",
       "      <td>0.0</td>\n",
       "      <td>Fear</td>\n",
       "    </tr>\n",
       "    <tr>\n",
       "      <th>3</th>\n",
       "      <td>-7.011128</td>\n",
       "      <td>-5.996286</td>\n",
       "      <td>-5.341102</td>\n",
       "      <td>-7.025241</td>\n",
       "      <td>-10.693501</td>\n",
       "      <td>-12.206599</td>\n",
       "      <td>-13.182552</td>\n",
       "      <td>-13.513250</td>\n",
       "      <td>-12.829860</td>\n",
       "      <td>-13.151039</td>\n",
       "      <td>...</td>\n",
       "      <td>0.0</td>\n",
       "      <td>0.0</td>\n",
       "      <td>0.0</td>\n",
       "      <td>0.0</td>\n",
       "      <td>0.0</td>\n",
       "      <td>0.0</td>\n",
       "      <td>0.0</td>\n",
       "      <td>0.0</td>\n",
       "      <td>0.0</td>\n",
       "      <td>Happy</td>\n",
       "    </tr>\n",
       "    <tr>\n",
       "      <th>4</th>\n",
       "      <td>-13.136120</td>\n",
       "      <td>-11.512733</td>\n",
       "      <td>-10.225630</td>\n",
       "      <td>-9.838783</td>\n",
       "      <td>-9.236116</td>\n",
       "      <td>-11.287755</td>\n",
       "      <td>-15.745927</td>\n",
       "      <td>-17.706661</td>\n",
       "      <td>-18.655682</td>\n",
       "      <td>-16.432726</td>\n",
       "      <td>...</td>\n",
       "      <td>0.0</td>\n",
       "      <td>0.0</td>\n",
       "      <td>0.0</td>\n",
       "      <td>0.0</td>\n",
       "      <td>0.0</td>\n",
       "      <td>0.0</td>\n",
       "      <td>0.0</td>\n",
       "      <td>0.0</td>\n",
       "      <td>0.0</td>\n",
       "      <td>Neutral</td>\n",
       "    </tr>\n",
       "  </tbody>\n",
       "</table>\n",
       "<p>5 rows × 217 columns</p>\n",
       "</div>"
      ],
      "text/plain": [
       "           0          1          2          3          4          5  \\\n",
       "0  -9.620732  -6.468153  -5.925110  -6.729927  -8.394912 -12.471506   \n",
       "1 -16.037386 -11.193971  -8.674429 -10.208759 -11.293220 -12.851307   \n",
       "2  -7.326170  -6.825267  -9.066109 -11.684609 -12.352726 -11.807521   \n",
       "3  -7.011128  -5.996286  -5.341102  -7.025241 -10.693501 -12.206599   \n",
       "4 -13.136120 -11.512733 -10.225630  -9.838783  -9.236116 -11.287755   \n",
       "\n",
       "           6          7          8          9  ...  207  208  209  210  211  \\\n",
       "0 -13.474622 -14.074455 -13.747945 -12.962654  ...  0.0  0.0  0.0  0.0  0.0   \n",
       "1 -12.869898 -12.397981 -12.449426 -14.081515  ...  0.0  0.0  0.0  0.0  0.0   \n",
       "2 -11.920674 -10.837593 -11.293701 -12.753458  ...  0.0  0.0  0.0  0.0  0.0   \n",
       "3 -13.182552 -13.513250 -12.829860 -13.151039  ...  0.0  0.0  0.0  0.0  0.0   \n",
       "4 -15.745927 -17.706661 -18.655682 -16.432726  ...  0.0  0.0  0.0  0.0  0.0   \n",
       "\n",
       "   212  213  214  215    label  \n",
       "0  0.0  0.0  0.0  0.0    Angry  \n",
       "1  0.0  0.0  0.0  0.0  Disgust  \n",
       "2  0.0  0.0  0.0  0.0     Fear  \n",
       "3  0.0  0.0  0.0  0.0    Happy  \n",
       "4  0.0  0.0  0.0  0.0  Neutral  \n",
       "\n",
       "[5 rows x 217 columns]"
      ]
     },
     "execution_count": 2,
     "metadata": {},
     "output_type": "execute_result"
    }
   ],
   "source": [
    "df = pd.read_csv('original_mfcc_data.csv')\n",
    "df.head()"
   ]
  },
  {
   "cell_type": "code",
   "execution_count": 3,
   "metadata": {},
   "outputs": [
    {
     "data": {
      "text/plain": [
       "array(['Angry', 'Disgust', 'Fear', 'Happy', 'Neutral', 'Sad'],\n",
       "      dtype=object)"
      ]
     },
     "execution_count": 3,
     "metadata": {},
     "output_type": "execute_result"
    }
   ],
   "source": [
    "# different possible emotions\n",
    "df['label'].unique()"
   ]
  },
  {
   "cell_type": "code",
   "execution_count": 3,
   "metadata": {},
   "outputs": [
    {
     "data": {
      "text/html": [
       "<div>\n",
       "<style scoped>\n",
       "    .dataframe tbody tr th:only-of-type {\n",
       "        vertical-align: middle;\n",
       "    }\n",
       "\n",
       "    .dataframe tbody tr th {\n",
       "        vertical-align: top;\n",
       "    }\n",
       "\n",
       "    .dataframe thead th {\n",
       "        text-align: right;\n",
       "    }\n",
       "</style>\n",
       "<table border=\"1\" class=\"dataframe\">\n",
       "  <thead>\n",
       "    <tr style=\"text-align: right;\">\n",
       "      <th></th>\n",
       "      <th>0</th>\n",
       "      <th>1</th>\n",
       "      <th>2</th>\n",
       "      <th>3</th>\n",
       "      <th>4</th>\n",
       "      <th>5</th>\n",
       "      <th>6</th>\n",
       "      <th>7</th>\n",
       "      <th>8</th>\n",
       "      <th>9</th>\n",
       "      <th>...</th>\n",
       "      <th>207</th>\n",
       "      <th>208</th>\n",
       "      <th>209</th>\n",
       "      <th>210</th>\n",
       "      <th>211</th>\n",
       "      <th>212</th>\n",
       "      <th>213</th>\n",
       "      <th>214</th>\n",
       "      <th>215</th>\n",
       "      <th>label</th>\n",
       "    </tr>\n",
       "  </thead>\n",
       "  <tbody>\n",
       "    <tr>\n",
       "      <th>0</th>\n",
       "      <td>-9.620732</td>\n",
       "      <td>-6.468153</td>\n",
       "      <td>-5.925110</td>\n",
       "      <td>-6.729927</td>\n",
       "      <td>-8.394912</td>\n",
       "      <td>-12.471506</td>\n",
       "      <td>-13.474622</td>\n",
       "      <td>-14.074455</td>\n",
       "      <td>-13.747945</td>\n",
       "      <td>-12.962654</td>\n",
       "      <td>...</td>\n",
       "      <td>0.0</td>\n",
       "      <td>0.0</td>\n",
       "      <td>0.0</td>\n",
       "      <td>0.0</td>\n",
       "      <td>0.0</td>\n",
       "      <td>0.0</td>\n",
       "      <td>0.0</td>\n",
       "      <td>0.0</td>\n",
       "      <td>0.0</td>\n",
       "      <td>0</td>\n",
       "    </tr>\n",
       "    <tr>\n",
       "      <th>1</th>\n",
       "      <td>-16.037386</td>\n",
       "      <td>-11.193971</td>\n",
       "      <td>-8.674429</td>\n",
       "      <td>-10.208759</td>\n",
       "      <td>-11.293220</td>\n",
       "      <td>-12.851307</td>\n",
       "      <td>-12.869898</td>\n",
       "      <td>-12.397981</td>\n",
       "      <td>-12.449426</td>\n",
       "      <td>-14.081515</td>\n",
       "      <td>...</td>\n",
       "      <td>0.0</td>\n",
       "      <td>0.0</td>\n",
       "      <td>0.0</td>\n",
       "      <td>0.0</td>\n",
       "      <td>0.0</td>\n",
       "      <td>0.0</td>\n",
       "      <td>0.0</td>\n",
       "      <td>0.0</td>\n",
       "      <td>0.0</td>\n",
       "      <td>1</td>\n",
       "    </tr>\n",
       "    <tr>\n",
       "      <th>2</th>\n",
       "      <td>-7.326170</td>\n",
       "      <td>-6.825267</td>\n",
       "      <td>-9.066109</td>\n",
       "      <td>-11.684609</td>\n",
       "      <td>-12.352726</td>\n",
       "      <td>-11.807521</td>\n",
       "      <td>-11.920674</td>\n",
       "      <td>-10.837593</td>\n",
       "      <td>-11.293701</td>\n",
       "      <td>-12.753458</td>\n",
       "      <td>...</td>\n",
       "      <td>0.0</td>\n",
       "      <td>0.0</td>\n",
       "      <td>0.0</td>\n",
       "      <td>0.0</td>\n",
       "      <td>0.0</td>\n",
       "      <td>0.0</td>\n",
       "      <td>0.0</td>\n",
       "      <td>0.0</td>\n",
       "      <td>0.0</td>\n",
       "      <td>2</td>\n",
       "    </tr>\n",
       "    <tr>\n",
       "      <th>3</th>\n",
       "      <td>-7.011128</td>\n",
       "      <td>-5.996286</td>\n",
       "      <td>-5.341102</td>\n",
       "      <td>-7.025241</td>\n",
       "      <td>-10.693501</td>\n",
       "      <td>-12.206599</td>\n",
       "      <td>-13.182552</td>\n",
       "      <td>-13.513250</td>\n",
       "      <td>-12.829860</td>\n",
       "      <td>-13.151039</td>\n",
       "      <td>...</td>\n",
       "      <td>0.0</td>\n",
       "      <td>0.0</td>\n",
       "      <td>0.0</td>\n",
       "      <td>0.0</td>\n",
       "      <td>0.0</td>\n",
       "      <td>0.0</td>\n",
       "      <td>0.0</td>\n",
       "      <td>0.0</td>\n",
       "      <td>0.0</td>\n",
       "      <td>3</td>\n",
       "    </tr>\n",
       "    <tr>\n",
       "      <th>4</th>\n",
       "      <td>-13.136120</td>\n",
       "      <td>-11.512733</td>\n",
       "      <td>-10.225630</td>\n",
       "      <td>-9.838783</td>\n",
       "      <td>-9.236116</td>\n",
       "      <td>-11.287755</td>\n",
       "      <td>-15.745927</td>\n",
       "      <td>-17.706661</td>\n",
       "      <td>-18.655682</td>\n",
       "      <td>-16.432726</td>\n",
       "      <td>...</td>\n",
       "      <td>0.0</td>\n",
       "      <td>0.0</td>\n",
       "      <td>0.0</td>\n",
       "      <td>0.0</td>\n",
       "      <td>0.0</td>\n",
       "      <td>0.0</td>\n",
       "      <td>0.0</td>\n",
       "      <td>0.0</td>\n",
       "      <td>0.0</td>\n",
       "      <td>4</td>\n",
       "    </tr>\n",
       "  </tbody>\n",
       "</table>\n",
       "<p>5 rows × 217 columns</p>\n",
       "</div>"
      ],
      "text/plain": [
       "           0          1          2          3          4          5  \\\n",
       "0  -9.620732  -6.468153  -5.925110  -6.729927  -8.394912 -12.471506   \n",
       "1 -16.037386 -11.193971  -8.674429 -10.208759 -11.293220 -12.851307   \n",
       "2  -7.326170  -6.825267  -9.066109 -11.684609 -12.352726 -11.807521   \n",
       "3  -7.011128  -5.996286  -5.341102  -7.025241 -10.693501 -12.206599   \n",
       "4 -13.136120 -11.512733 -10.225630  -9.838783  -9.236116 -11.287755   \n",
       "\n",
       "           6          7          8          9  ...  207  208  209  210  211  \\\n",
       "0 -13.474622 -14.074455 -13.747945 -12.962654  ...  0.0  0.0  0.0  0.0  0.0   \n",
       "1 -12.869898 -12.397981 -12.449426 -14.081515  ...  0.0  0.0  0.0  0.0  0.0   \n",
       "2 -11.920674 -10.837593 -11.293701 -12.753458  ...  0.0  0.0  0.0  0.0  0.0   \n",
       "3 -13.182552 -13.513250 -12.829860 -13.151039  ...  0.0  0.0  0.0  0.0  0.0   \n",
       "4 -15.745927 -17.706661 -18.655682 -16.432726  ...  0.0  0.0  0.0  0.0  0.0   \n",
       "\n",
       "   212  213  214  215  label  \n",
       "0  0.0  0.0  0.0  0.0      0  \n",
       "1  0.0  0.0  0.0  0.0      1  \n",
       "2  0.0  0.0  0.0  0.0      2  \n",
       "3  0.0  0.0  0.0  0.0      3  \n",
       "4  0.0  0.0  0.0  0.0      4  \n",
       "\n",
       "[5 rows x 217 columns]"
      ]
     },
     "execution_count": 3,
     "metadata": {},
     "output_type": "execute_result"
    }
   ],
   "source": [
    "dfC = df.copy() # make a copy before making edits\n",
    "\n",
    "# label encode the target emotions\n",
    "dfC['label'] = dfC['label'].map({'Angry': 0, 'Disgust': 1, 'Fear': 2, 'Happy': 3, 'Neutral': 4, 'Sad': 5})\n",
    "dfC.head()"
   ]
  },
  {
   "cell_type": "code",
   "execution_count": 4,
   "metadata": {},
   "outputs": [
    {
     "data": {
      "text/plain": [
       "3    1271\n",
       "2    1271\n",
       "5    1271\n",
       "1    1271\n",
       "0    1271\n",
       "4    1087\n",
       "Name: label, dtype: int64"
      ]
     },
     "execution_count": 4,
     "metadata": {},
     "output_type": "execute_result"
    }
   ],
   "source": [
    "# check distribution of target variable\n",
    "dfC['label'].value_counts() # Neutral emotion has least number of records in the dataset"
   ]
  },
  {
   "cell_type": "code",
   "execution_count": 5,
   "metadata": {},
   "outputs": [],
   "source": [
    "# separate target and features\n",
    "def separate(data):\n",
    "    y = data['label']\n",
    "    X = data.iloc[:, 0:-1]\n",
    "    return X, y"
   ]
  },
  {
   "cell_type": "code",
   "execution_count": 6,
   "metadata": {},
   "outputs": [],
   "source": [
    "X, y = separate(dfC)"
   ]
  },
  {
   "cell_type": "code",
   "execution_count": 7,
   "metadata": {},
   "outputs": [],
   "source": [
    "# manual train/test split\n",
    "X_train, X_test, y_train, y_test = train_test_split(X, y, test_size=0.2, random_state=1)"
   ]
  },
  {
   "cell_type": "markdown",
   "metadata": {},
   "source": [
    "## KNN"
   ]
  },
  {
   "cell_type": "code",
   "execution_count": 8,
   "metadata": {},
   "outputs": [],
   "source": [
    "from sklearn.neighbors import KNeighborsClassifier\n",
    "from sklearn.metrics import accuracy_score"
   ]
  },
  {
   "cell_type": "code",
   "execution_count": 9,
   "metadata": {},
   "outputs": [
    {
     "name": "stdout",
     "output_type": "stream",
     "text": [
      "Accuracy of Baseline KNN:  0.30020147750167897\n"
     ]
    }
   ],
   "source": [
    "knn = KNeighborsClassifier()\n",
    "knn.fit(X_train, y_train)\n",
    "y_preds = knn.predict(X_test)\n",
    "acc = accuracy_score(y_test, y_preds)\n",
    "print('Accuracy of Baseline KNN: ', acc)"
   ]
  },
  {
   "cell_type": "code",
   "execution_count": 10,
   "metadata": {},
   "outputs": [
    {
     "data": {
      "text/plain": [
       "1489"
      ]
     },
     "execution_count": 10,
     "metadata": {},
     "output_type": "execute_result"
    }
   ],
   "source": [
    "len(y_preds) # confirm shape of predictions"
   ]
  },
  {
   "cell_type": "code",
   "execution_count": 11,
   "metadata": {},
   "outputs": [],
   "source": [
    "cate = ['Angry', 'Disgust', 'Fear', 'Happy', 'Neutral', 'Sad']"
   ]
  },
  {
   "cell_type": "code",
   "execution_count": 14,
   "metadata": {},
   "outputs": [],
   "source": [
    "from sklearn.metrics import confusion_matrix, classification_report "
   ]
  },
  {
   "cell_type": "code",
   "execution_count": 15,
   "metadata": {},
   "outputs": [
    {
     "data": {
      "text/plain": [
       "<Figure size 864x720 with 0 Axes>"
      ]
     },
     "metadata": {},
     "output_type": "display_data"
    }
   ],
   "source": [
    "cf_matrix = confusion_matrix(y_test, y_preds)\n",
    "plt.figure(figsize=(12,10))\n",
    "cm = pd.DataFrame(cf_matrix, index = [i for i in cate], columns = [i for i in cate])"
   ]
  },
  {
   "cell_type": "code",
   "execution_count": 16,
   "metadata": {},
   "outputs": [
    {
     "data": {
      "image/png": "[encoded data removed]",
      "text/plain": [
       "<Figure size 432x288 with 2 Axes>"
      ]
     },
     "metadata": {
      "needs_background": "light"
     },
     "output_type": "display_data"
    }
   ],
   "source": [
    "sns.heatmap(cm, linecolor=\"white\", annot=True, linewidth=1, cmap=\"Blues\", fmt='')\n",
    "plt.title('Confusion Matrix', size=20)\n",
    "plt.xlabel('Predicted Labels', size=14)\n",
    "plt.ylabel('Actual Labels', size=14)\n",
    "plt.show()"
   ]
  },
  {
   "cell_type": "code",
   "execution_count": 17,
   "metadata": {},
   "outputs": [
    {
     "name": "stdout",
     "output_type": "stream",
     "text": [
      "[[130  35  32  41  13  10]\n",
      " [ 31  61  43  30  31  55]\n",
      " [ 32  42  56  49  26  36]\n",
      " [ 47  51  48  56  25  19]\n",
      " [ 17  40  43  22  55  44]\n",
      " [  7  61  64  14  34  89]]\n",
      "              precision    recall  f1-score   support\n",
      "\n",
      "           0       0.49      0.50      0.50       261\n",
      "           1       0.21      0.24      0.23       251\n",
      "           2       0.20      0.23      0.21       241\n",
      "           3       0.26      0.23      0.24       246\n",
      "           4       0.30      0.25      0.27       221\n",
      "           5       0.35      0.33      0.34       269\n",
      "\n",
      "    accuracy                           0.30      1489\n",
      "   macro avg       0.30      0.30      0.30      1489\n",
      "weighted avg       0.31      0.30      0.30      1489\n",
      "\n"
     ]
    }
   ],
   "source": [
    "print(confusion_matrix(y_test, y_preds))\n",
    "print(classification_report(y_test, y_preds))"
   ]
  },
  {
   "cell_type": "markdown",
   "metadata": {},
   "source": [
    "By observing the baseline KNN confusion matrix, we see that the majority of Fear-labeled instances are classified as Happy and Disgust, whereas KNN was able to distinguish quite well between happiness and sadness. "
   ]
  },
  {
   "cell_type": "code",
   "execution_count": 19,
   "metadata": {},
   "outputs": [],
   "source": [
    "from sklearn.model_selection import cross_val_score"
   ]
  },
  {
   "cell_type": "code",
   "execution_count": 20,
   "metadata": {},
   "outputs": [
    {
     "data": {
      "text/plain": [
       "array([0.27785235, 0.34765101, 0.32930108, 0.27688172, 0.32795699,\n",
       "       0.31854839, 0.33602151, 0.27956989, 0.30510753, 0.29704301])"
      ]
     },
     "execution_count": 20,
     "metadata": {},
     "output_type": "execute_result"
    }
   ],
   "source": [
    "# training model using k-fold cross-validation\n",
    "knn = KNeighborsClassifier()\n",
    "scores = cross_val_score(knn, X, y, cv = 10, scoring = 'accuracy')\n",
    "scores"
   ]
  },
  {
   "cell_type": "markdown",
   "metadata": {},
   "source": [
    "With 10 folds of cross validation, the scores are observed to not significantly vary from the baseline KNN classifier and lie within the range of -/+ 5%. "
   ]
  },
  {
   "cell_type": "code",
   "execution_count": 21,
   "metadata": {},
   "outputs": [
    {
     "data": {
      "text/plain": [
       "0.30959334632315794"
      ]
     },
     "execution_count": 21,
     "metadata": {},
     "output_type": "execute_result"
    }
   ],
   "source": [
    "# use average accuracy as an estimate of out-of-sample accuracy\n",
    "# numpy array has a method mean()\n",
    "scores.mean()"
   ]
  },
  {
   "cell_type": "code",
   "execution_count": 22,
   "metadata": {},
   "outputs": [
    {
     "name": "stdout",
     "output_type": "stream",
     "text": [
      "[0.2753301580428664, 0.282183012196002, 0.29037977195641196, 0.30435664285198816, 0.30959334632315794, 0.31362813018690916, 0.31792812297033995, 0.32236126145630367, 0.3290822328065238, 0.32397596882442087, 0.33069405354694376, 0.3310989030814751, 0.33687666883163747, 0.334995128815761, 0.3347248682976113, 0.3368752255177888, 0.336471458468644, 0.3396985278198744, 0.3379508551634553, 0.3382214765100671, 0.3407748791224652, 0.341580428664213, 0.34104441798369056, 0.3411799090712275, 0.3411784657573789, 0.34117810492891676, 0.33929728656996466, 0.34198527819874436, 0.3440006855740781, 0.3454773760554233]\n"
     ]
    }
   ],
   "source": [
    "# search for an optimal value of K for KNN\n",
    "\n",
    "# range of k we want to try\n",
    "k_range = range(1, 31)\n",
    "# empty list to store scores\n",
    "k_scores = []\n",
    "\n",
    "# 1. we will loop through reasonable values of k\n",
    "for k in k_range:\n",
    "    # 2. run KNeighborsClassifier with k neighbours\n",
    "    knn = KNeighborsClassifier(n_neighbors = k)\n",
    "    # 3. obtain cross_val_score for KNeighborsClassifier with k neighbours\n",
    "    scores = cross_val_score(knn, X, y, cv = 10, scoring='accuracy')\n",
    "    # 4. append mean of scores for k neighbors to k_scores list\n",
    "    k_scores.append(scores.mean())\n",
    "\n",
    "\n",
    "print(k_scores)"
   ]
  },
  {
   "cell_type": "code",
   "execution_count": 23,
   "metadata": {},
   "outputs": [
    {
     "name": "stdout",
     "output_type": "stream",
     "text": [
      "Length of list 30\n",
      "Max of list 0.3454773760554233\n"
     ]
    }
   ],
   "source": [
    "print('Length of list', len(k_scores)) # length of scores should be 30 due to running k-fold cv method 30 times\n",
    "print('Max of list', max(k_scores))"
   ]
  },
  {
   "cell_type": "code",
   "execution_count": 24,
   "metadata": {},
   "outputs": [
    {
     "data": {
      "text/plain": [
       "Text(0.5, 1.0, 'CV Accuracy vs. K Neighbors')"
      ]
     },
     "execution_count": 24,
     "metadata": {},
     "output_type": "execute_result"
    },
    {
     "data": {
      "image/png": "[encoded data removed]",
      "text/plain": [
       "<Figure size 432x288 with 1 Axes>"
      ]
     },
     "metadata": {
      "needs_background": "light"
     },
     "output_type": "display_data"
    }
   ],
   "source": [
    "plt.plot(k_range, k_scores)\n",
    "plt.xlabel('Neighbors (k)')\n",
    "plt.ylabel('Cross-validated accuracy')\n",
    "plt.title('CV Accuracy vs. K Neighbors')"
   ]
  },
  {
   "cell_type": "markdown",
   "metadata": {},
   "source": [
    "From the elbow method, we found that 20 neighbors is where the median CV takes place. Let's retrain KNN with the elbow method-verified k value and observe the average cross-validated mean."
   ]
  },
  {
   "cell_type": "code",
   "execution_count": 20,
   "metadata": {},
   "outputs": [],
   "source": [
    "# 10-fold cross-validation with best KNN model\n",
    "# calculate mean directly on results\n",
    "knn = KNeighborsClassifier(n_neighbors = 20)\n",
    "y_pred = cross_val_score(knn, X, y, cv = 10, scoring = 'accuracy').mean()"
   ]
  },
  {
   "cell_type": "code",
   "execution_count": 21,
   "metadata": {},
   "outputs": [
    {
     "data": {
      "text/plain": [
       "0.3382214765100671"
      ]
     },
     "execution_count": 21,
     "metadata": {},
     "output_type": "execute_result"
    }
   ],
   "source": [
    "y_pred"
   ]
  },
  {
   "cell_type": "markdown",
   "metadata": {},
   "source": [
    "And as expected, the model with k = 20 neighbors performs slightly better than sklearn's default model with k = 5 neighbors."
   ]
  },
  {
   "cell_type": "markdown",
   "metadata": {},
   "source": [
    "## SVC"
   ]
  },
  {
   "cell_type": "code",
   "execution_count": 22,
   "metadata": {},
   "outputs": [],
   "source": [
    "from sklearn.svm import SVC"
   ]
  },
  {
   "cell_type": "code",
   "execution_count": 24,
   "metadata": {},
   "outputs": [
    {
     "name": "stdout",
     "output_type": "stream",
     "text": [
      "Accuracy of Baseline SVC:  0.3707186030893217\n"
     ]
    }
   ],
   "source": [
    "# baseline SVM classifier\n",
    "best_svc = SVC(kernel = 'rbf')\n",
    "best_svc.fit(X_train, y_train)\n",
    "y_preds = best_svc.predict(X_test)\n",
    "svc_acc = accuracy_score(y_test, y_preds)\n",
    "print('Accuracy of Baseline SVC: ', svc_acc)"
   ]
  },
  {
   "cell_type": "code",
   "execution_count": 25,
   "metadata": {},
   "outputs": [
    {
     "data": {
      "text/plain": [
       "<Figure size 864x720 with 0 Axes>"
      ]
     },
     "metadata": {},
     "output_type": "display_data"
    }
   ],
   "source": [
    "cf_matrix = confusion_matrix(y_test, y_preds)\n",
    "plt.figure(figsize=(12,10))\n",
    "cm = pd.DataFrame(cf_matrix, index = [i for i in cate], columns = [i for i in cate])"
   ]
  },
  {
   "cell_type": "code",
   "execution_count": 28,
   "metadata": {},
   "outputs": [
    {
     "data": {
      "image/png": "[encoded data removed]",
      "text/plain": [
       "<Figure size 432x288 with 2 Axes>"
      ]
     },
     "metadata": {
      "needs_background": "light"
     },
     "output_type": "display_data"
    }
   ],
   "source": [
    "sns.heatmap(cm, linecolor=\"white\", annot=True, linewidth=1, cmap=\"Blues\")\n",
    "plt.title('Confusion Matrix', size=20)\n",
    "plt.xlabel('Predicted Labels', size=14)\n",
    "plt.ylabel('Actual Labels', size=14)\n",
    "plt.show()"
   ]
  },
  {
   "cell_type": "code",
   "execution_count": 29,
   "metadata": {},
   "outputs": [
    {
     "name": "stdout",
     "output_type": "stream",
     "text": [
      "[[156   5   0  80   8  12]\n",
      " [ 36  33   0  60  19 103]\n",
      " [ 32   8   1  94  25  81]\n",
      " [ 58   4   1 126  17  40]\n",
      " [ 19  13   0  52  45  92]\n",
      " [  4  22   0  21  31 191]]\n",
      "              precision    recall  f1-score   support\n",
      "\n",
      "           0       0.51      0.60      0.55       261\n",
      "           1       0.39      0.13      0.20       251\n",
      "           2       0.50      0.00      0.01       241\n",
      "           3       0.29      0.51      0.37       246\n",
      "           4       0.31      0.20      0.25       221\n",
      "           5       0.37      0.71      0.48       269\n",
      "\n",
      "    accuracy                           0.37      1489\n",
      "   macro avg       0.39      0.36      0.31      1489\n",
      "weighted avg       0.40      0.37      0.32      1489\n",
      "\n"
     ]
    }
   ],
   "source": [
    "y_preds = best_svc.predict(X_test)\n",
    "print(confusion_matrix(y_test, y_preds))\n",
    "print(classification_report(y_test, y_preds))"
   ]
  },
  {
   "cell_type": "markdown",
   "metadata": {},
   "source": [
    "The second algorithm we used is the SVM Classifier, specifically, the non-linear SVM as the boundary the algorithm calculates doesn’t have to be a straight line. We think the algorithm’s kernel trick can help compute a much more optimal hyperplane for our unstructured audio data. The baseline SVC accuracy aligns with our hypothesis that our unstructured data may be better comprehended by selecting the appropriate non-linear kernel function. Our confusion matrix shows Fear having the least quantity of true predictions and are largely misclassified as Happiness. "
   ]
  },
  {
   "cell_type": "code",
   "execution_count": 30,
   "metadata": {},
   "outputs": [
    {
     "data": {
      "text/plain": [
       "array([0.29261745, 0.38791946, 0.36155914, 0.35752688, 0.3844086 ,\n",
       "       0.38172043, 0.37096774, 0.35080645, 0.35483871, 0.36290323])"
      ]
     },
     "execution_count": 30,
     "metadata": {},
     "output_type": "execute_result"
    }
   ],
   "source": [
    "# run cross validation on SVC\n",
    "best_svc = SVC(kernel = 'rbf')\n",
    "svc_scores = cross_val_score(best_svc, X, y, cv = 10, scoring = 'accuracy')\n",
    "svc_scores"
   ]
  },
  {
   "cell_type": "code",
   "execution_count": 31,
   "metadata": {},
   "outputs": [
    {
     "name": "stdout",
     "output_type": "stream",
     "text": [
      "Average k-fold score:  0.3605268095547377\n",
      "Length of list 10\n",
      "Max of list 0.38791946308724834\n"
     ]
    }
   ],
   "source": [
    "print('Average k-fold score: ', svc_scores.mean())\n",
    "print('Length of list', len(svc_scores)) \n",
    "print('Max of list', max(svc_scores))"
   ]
  },
  {
   "cell_type": "markdown",
   "metadata": {},
   "source": [
    "The maximum cross-validated score of ~38.8% is above KNN's maximum cross-validated score by around 4%. "
   ]
  },
  {
   "cell_type": "code",
   "execution_count": 30,
   "metadata": {},
   "outputs": [
    {
     "data": {
      "text/plain": [
       "array([0.29932886, 0.37449664, 0.34811828, 0.35349462, 0.3844086 ,\n",
       "       0.36021505, 0.36021505, 0.3266129 , 0.34408602, 0.37096774])"
      ]
     },
     "execution_count": 30,
     "metadata": {},
     "output_type": "execute_result"
    }
   ],
   "source": [
    "# any improvement using poly kernel?\n",
    "svc2 = SVC(kernel = 'poly')\n",
    "svc_scores2 = cross_val_score(svc2, X, y, cv = 10, scoring = 'accuracy')\n",
    "svc_scores2"
   ]
  },
  {
   "cell_type": "code",
   "execution_count": 31,
   "metadata": {},
   "outputs": [
    {
     "name": "stdout",
     "output_type": "stream",
     "text": [
      "Average k-fold score:  0.35219437829255973\n",
      "Length of list 10\n",
      "Max of list 0.3844086021505376\n"
     ]
    }
   ],
   "source": [
    "print('Average k-fold score: ', svc_scores2.mean())\n",
    "print('Length of list', len(svc_scores2)) \n",
    "print('Max of list', max(svc_scores2)) # not really any improvement"
   ]
  },
  {
   "cell_type": "markdown",
   "metadata": {},
   "source": [
    "A polynomial kernel did not perform significantly worse, but also rarely yields any improvement when compared to the performance of a SVC with RBF kernel. Thus, we decided to stick with the radial basis fuction kernel for re-training with dimensionality reduction."
   ]
  },
  {
   "cell_type": "markdown",
   "metadata": {},
   "source": [
    "## SVC + PCA"
   ]
  },
  {
   "cell_type": "code",
   "execution_count": 33,
   "metadata": {},
   "outputs": [],
   "source": [
    "from sklearn.preprocessing import StandardScaler"
   ]
  },
  {
   "cell_type": "code",
   "execution_count": 43,
   "metadata": {},
   "outputs": [
    {
     "name": "stdout",
     "output_type": "stream",
     "text": [
      "[[ 1.46850379  1.59553021  1.59989492 ...  0.0129619   0.0129619\n",
      "   0.0129619 ]\n",
      " [ 3.13502789  2.60916479  1.71793892 ...  0.0129619   0.0129619\n",
      "   0.0129619 ]\n",
      " [-0.03955548 -0.19659917 -0.65111816 ...  0.0129619   0.0129619\n",
      "   0.0129619 ]\n",
      " ...\n",
      " [-0.8678988  -0.8833919  -1.0148304  ...  0.0129619   0.0129619\n",
      "   0.0129619 ]\n",
      " [-1.75540892 -1.85158417 -1.74823275 ...  0.0129619   0.0129619\n",
      "   0.0129619 ]\n",
      " [-0.11491408 -0.56256621 -0.90848114 ...  0.0129619   0.0129619\n",
      "   0.0129619 ]]\n",
      "216\n"
     ]
    }
   ],
   "source": [
    "# standardize the input\n",
    "\n",
    "x_train = StandardScaler().fit_transform(X_train.values)\n",
    "print(x_train)\n",
    "print(len(x_train[0]))"
   ]
  },
  {
   "cell_type": "code",
   "execution_count": 35,
   "metadata": {},
   "outputs": [
    {
     "name": "stdout",
     "output_type": "stream",
     "text": [
      "-5.282730582360091e-18\n",
      "1.0000000000000002\n"
     ]
    }
   ],
   "source": [
    "print(np.mean(x_train))\n",
    "print(np.std(x_train))"
   ]
  },
  {
   "cell_type": "code",
   "execution_count": 38,
   "metadata": {},
   "outputs": [],
   "source": [
    "# testing on three levels of explained variance (90%, 95%, 98%)\n",
    "from sklearn.decomposition import PCA"
   ]
  },
  {
   "cell_type": "code",
   "execution_count": 44,
   "metadata": {},
   "outputs": [
    {
     "data": {
      "text/plain": [
       "array([3.41199142e-01, 1.71398925e-01, 1.00160591e-01, 6.20643323e-02,\n",
       "       4.45954169e-02, 3.70752336e-02, 3.03630050e-02, 2.19464635e-02,\n",
       "       1.58612376e-02, 1.26921483e-02, 1.13940392e-02, 9.59721085e-03,\n",
       "       8.90723290e-03, 7.96022197e-03, 7.24699195e-03, 6.40716917e-03,\n",
       "       6.06840296e-03, 5.41159359e-03, 5.01656512e-03, 4.58159971e-03,\n",
       "       4.18010458e-03, 3.86408027e-03, 3.57584104e-03, 3.31152711e-03,\n",
       "       3.09989236e-03, 2.91232644e-03, 2.88782016e-03, 2.79504985e-03,\n",
       "       2.54836371e-03, 2.37234293e-03, 2.26473875e-03, 2.12252148e-03,\n",
       "       1.99861126e-03, 1.89853148e-03, 1.78458326e-03, 1.68808454e-03,\n",
       "       1.65150605e-03, 1.51829809e-03, 1.45774575e-03, 1.37327118e-03,\n",
       "       1.33173983e-03, 1.27897149e-03, 1.23056891e-03, 1.17331796e-03,\n",
       "       1.07504072e-03, 1.05200727e-03, 1.02705707e-03, 9.67312400e-04,\n",
       "       8.98270873e-04, 8.68489615e-04, 8.46493006e-04, 8.12766324e-04,\n",
       "       7.75154516e-04, 7.39076853e-04, 7.22256475e-04, 6.97184841e-04,\n",
       "       6.73478301e-04, 6.50751595e-04, 6.33981767e-04, 6.10286098e-04,\n",
       "       5.85756869e-04, 5.62817591e-04, 5.52917449e-04, 5.27380500e-04,\n",
       "       5.17199126e-04, 4.94007354e-04, 4.78298944e-04, 4.73558104e-04,\n",
       "       4.61167211e-04, 4.54099392e-04, 4.37858922e-04, 4.12974066e-04,\n",
       "       4.06754798e-04, 3.96544538e-04, 3.88126236e-04, 3.74529946e-04,\n",
       "       3.65347803e-04, 3.60252817e-04, 3.40458537e-04, 3.27286835e-04,\n",
       "       3.17053662e-04, 3.15196542e-04, 2.97607173e-04, 2.93554882e-04,\n",
       "       2.92252841e-04, 2.78943631e-04, 2.72312181e-04, 2.67185284e-04,\n",
       "       2.61372838e-04, 2.53428306e-04, 2.48344196e-04, 2.44269458e-04,\n",
       "       2.37232626e-04, 2.32957900e-04, 2.22996466e-04, 2.21356076e-04,\n",
       "       2.13646905e-04, 2.10995152e-04, 2.02616192e-04, 1.99564053e-04,\n",
       "       1.95432145e-04, 1.88523306e-04, 1.84695269e-04, 1.78130381e-04,\n",
       "       1.77183893e-04, 1.73849585e-04, 1.70773904e-04, 1.67684083e-04,\n",
       "       1.64783831e-04, 1.62846594e-04, 1.57142091e-04, 1.55703146e-04,\n",
       "       1.52725701e-04, 1.49557746e-04, 1.48186982e-04, 1.44595350e-04,\n",
       "       1.40545319e-04, 1.38935437e-04, 1.36844830e-04, 1.33133151e-04,\n",
       "       1.32074273e-04, 1.27299570e-04, 1.25172846e-04, 1.22910800e-04,\n",
       "       1.20475438e-04, 1.18985040e-04, 1.16620194e-04, 1.15194272e-04,\n",
       "       1.13074934e-04, 1.10972755e-04, 1.09271292e-04, 1.06063847e-04,\n",
       "       1.04497767e-04, 1.03813704e-04, 1.02500494e-04, 1.00255435e-04,\n",
       "       9.97636391e-05, 9.86477742e-05, 9.67489294e-05, 9.56761323e-05,\n",
       "       9.49784103e-05, 9.44432233e-05, 9.11161988e-05, 8.97998199e-05,\n",
       "       8.78930196e-05, 8.66896289e-05, 8.46686949e-05, 8.29633999e-05,\n",
       "       8.20556222e-05, 8.14514427e-05, 8.08215146e-05, 7.93777070e-05,\n",
       "       7.84248216e-05, 7.72868495e-05, 7.53293541e-05, 7.33194530e-05,\n",
       "       7.28673832e-05, 7.22320152e-05, 7.01197601e-05, 6.96534618e-05,\n",
       "       6.90620164e-05, 6.84765816e-05, 6.66682281e-05, 6.42370020e-05,\n",
       "       6.35786281e-05, 6.34274831e-05, 6.25240025e-05, 6.16074562e-05,\n",
       "       6.11494958e-05, 6.07905511e-05, 5.93803623e-05, 5.80389173e-05,\n",
       "       5.75883311e-05, 5.71651983e-05, 5.54386288e-05, 5.45056042e-05,\n",
       "       5.37139536e-05, 5.20964580e-05, 5.07298170e-05, 4.89452839e-05,\n",
       "       4.82476975e-05, 4.77618212e-05, 4.65490236e-05, 4.53621936e-05,\n",
       "       4.39036797e-05, 4.34325699e-05, 3.81736798e-05, 3.38472937e-05,\n",
       "       3.11069493e-05, 2.82163256e-05, 7.21400422e-06, 6.92590176e-06,\n",
       "       3.77489785e-06, 1.94328342e-06, 4.20876198e-07, 1.97827693e-08,\n",
       "       6.72896660e-32, 1.70170053e-33, 1.70170053e-33, 1.70170053e-33,\n",
       "       1.70170053e-33, 1.70170053e-33, 1.70170053e-33, 1.70170053e-33,\n",
       "       1.70170053e-33, 1.70170053e-33, 1.70170053e-33, 1.70170053e-33,\n",
       "       1.70170053e-33, 1.70170053e-33, 1.70170053e-33, 1.70170053e-33,\n",
       "       1.70170053e-33, 1.70170053e-33, 1.70170053e-33, 2.56441158e-34])"
      ]
     },
     "execution_count": 44,
     "metadata": {},
     "output_type": "execute_result"
    }
   ],
   "source": [
    "# set number of components equal to number of input features\n",
    "pca = PCA().fit(x_train) # fit as many principal components possible\n",
    "\n",
    "# confirm findings by how much variance is explained by the principal components derived\n",
    "explained_variance_ratio = pca.explained_variance_ratio_\n",
    "explained_variance_ratio"
   ]
  },
  {
   "cell_type": "code",
   "execution_count": 45,
   "metadata": {},
   "outputs": [
    {
     "data": {
      "text/plain": [
       "Text(0, 0.5, 'Variance')"
      ]
     },
     "execution_count": 45,
     "metadata": {},
     "output_type": "execute_result"
    },
    {
     "data": {
      "image/png": "[encoded data removed]",
      "text/plain": [
       "<Figure size 432x288 with 1 Axes>"
      ]
     },
     "metadata": {
      "needs_background": "light"
     },
     "output_type": "display_data"
    }
   ],
   "source": [
    "# inverse of scree plot\n",
    "plt.plot(np.cumsum(explained_variance_ratio))\n",
    "plt.title('Cumulative Explained Variance per Principal Component')\n",
    "plt.xlabel('Principal Components')\n",
    "plt.ylabel('Variance')"
   ]
  },
  {
   "cell_type": "code",
   "execution_count": 46,
   "metadata": {},
   "outputs": [
    {
     "data": {
      "text/plain": [
       "array([0.34119914, 0.51259807, 0.61275866, 0.67482299, 0.71941841,\n",
       "       0.75649364, 0.78685665, 0.80880311, 0.82466435, 0.8373565 ,\n",
       "       0.84875053, 0.85834775, 0.86725498, 0.8752152 , 0.88246219,\n",
       "       0.88886936, 0.89493776, 0.90034936, 0.90536592, 0.90994752,\n",
       "       0.91412763, 0.91799171, 0.92156755, 0.92487908, 0.92797897,\n",
       "       0.93089129, 0.93377911, 0.93657416, 0.93912253, 0.94149487,\n",
       "       0.94375961, 0.94588213, 0.94788074, 0.94977927, 0.95156386,\n",
       "       0.95325194, 0.95490345, 0.95642175, 0.95787949, 0.95925276,\n",
       "       0.9605845 , 0.96186347, 0.96309404, 0.96426736, 0.9653424 ,\n",
       "       0.96639441, 0.96742147, 0.96838878, 0.96928705, 0.97015554,\n",
       "       0.97100203, 0.9718148 , 0.97258995, 0.97332903, 0.97405129,\n",
       "       0.97474847, 0.97542195, 0.9760727 , 0.97670668, 0.97731697,\n",
       "       0.97790273, 0.97846554, 0.97901846, 0.97954584, 0.98006304,\n",
       "       0.98055705, 0.98103535, 0.9815089 , 0.98197007, 0.98242417,\n",
       "       0.98286203, 0.983275  , 0.98368176, 0.9840783 , 0.98446643,\n",
       "       0.98484096, 0.98520631, 0.98556656, 0.98590702, 0.98623431,\n",
       "       0.98655136, 0.98686656, 0.98716416, 0.98745772, 0.98774997,\n",
       "       0.98802891, 0.98830123, 0.98856841, 0.98882979, 0.98908321,\n",
       "       0.98933156, 0.98957583, 0.98981306, 0.99004602, 0.99026901,\n",
       "       0.99049037, 0.99070402, 0.99091501, 0.99111763, 0.99131719,\n",
       "       0.99151262, 0.99170115, 0.99188584, 0.99206397, 0.99224116,\n",
       "       0.99241501, 0.99258578, 0.99275346, 0.99291825, 0.9930811 ,\n",
       "       0.99323824, 0.99339394, 0.99354667, 0.99369622, 0.99384441,\n",
       "       0.99398901, 0.99412955, 0.99426849, 0.99440533, 0.99453847,\n",
       "       0.99467054, 0.99479784, 0.99492301, 0.99504592, 0.9951664 ,\n",
       "       0.99528538, 0.995402  , 0.9955172 , 0.99563027, 0.99574125,\n",
       "       0.99585052, 0.99595658, 0.99606108, 0.99616489, 0.99626739,\n",
       "       0.99636765, 0.99646741, 0.99656606, 0.99666281, 0.99675848,\n",
       "       0.99685346, 0.99694791, 0.99703902, 0.99712882, 0.99721671,\n",
       "       0.9973034 , 0.99738807, 0.99747104, 0.99755309, 0.99763454,\n",
       "       0.99771537, 0.99779474, 0.99787317, 0.99795045, 0.99802578,\n",
       "       0.9980991 , 0.99817197, 0.9982442 , 0.99831432, 0.99838398,\n",
       "       0.99845304, 0.99852151, 0.99858818, 0.99865242, 0.998716  ,\n",
       "       0.99877943, 0.99884195, 0.99890356, 0.99896471, 0.9990255 ,\n",
       "       0.99908488, 0.99914292, 0.99920051, 0.99925767, 0.99931311,\n",
       "       0.99936761, 0.99942133, 0.99947342, 0.99952415, 0.9995731 ,\n",
       "       0.99962135, 0.99966911, 0.99971566, 0.99976102, 0.99980492,\n",
       "       0.99984836, 0.99988653, 0.99992038, 0.99995148, 0.9999797 ,\n",
       "       0.99998692, 0.99999384, 0.99999762, 0.99999956, 0.99999998,\n",
       "       1.        , 1.        , 1.        , 1.        , 1.        ,\n",
       "       1.        , 1.        , 1.        , 1.        , 1.        ,\n",
       "       1.        , 1.        , 1.        , 1.        , 1.        ,\n",
       "       1.        , 1.        , 1.        , 1.        , 1.        ,\n",
       "       1.        ])"
      ]
     },
     "execution_count": 46,
     "metadata": {},
     "output_type": "execute_result"
    }
   ],
   "source": [
    "np.cumsum(explained_variance_ratio)"
   ]
  },
  {
   "cell_type": "code",
   "execution_count": 47,
   "metadata": {},
   "outputs": [
    {
     "data": {
      "text/plain": [
       "array([0.34119914, 0.51259807, 0.61275866, 0.67482299, 0.71941841,\n",
       "       0.75649364, 0.78685665, 0.80880311, 0.82466435, 0.8373565 ,\n",
       "       0.84875053, 0.85834775, 0.86725498, 0.8752152 , 0.88246219,\n",
       "       0.88886936, 0.89493776, 0.90034936, 0.90536592, 0.90994752,\n",
       "       0.91412763, 0.91799171, 0.92156755, 0.92487908, 0.92797897,\n",
       "       0.93089129, 0.93377911, 0.93657416, 0.93912253, 0.94149487,\n",
       "       0.94375961, 0.94588213, 0.94788074, 0.94977927, 0.95156386,\n",
       "       0.95325194, 0.95490345, 0.95642175, 0.95787949, 0.95925276,\n",
       "       0.9605845 , 0.96186347, 0.96309404, 0.96426736, 0.9653424 ,\n",
       "       0.96639441, 0.96742147, 0.96838878, 0.96928705, 0.97015554,\n",
       "       0.97100203, 0.9718148 , 0.97258995, 0.97332903, 0.97405129,\n",
       "       0.97474847, 0.97542195, 0.9760727 , 0.97670668, 0.97731697,\n",
       "       0.97790273, 0.97846554, 0.97901846, 0.97954584, 0.98006304])"
      ]
     },
     "execution_count": 47,
     "metadata": {},
     "output_type": "execute_result"
    }
   ],
   "source": [
    "np.cumsum(explained_variance_ratio[:65])"
   ]
  },
  {
   "cell_type": "code",
   "execution_count": 62,
   "metadata": {},
   "outputs": [],
   "source": [
    "def refit(train_data, test_data, n_components):\n",
    "    refit_pca = PCA(n_components = n_components)\n",
    "    PCA_X_train = refit_pca.fit_transform(train_data)\n",
    "    PCA_X_test = refit_pca.transform(test_data)\n",
    "    \n",
    "    return PCA_X_train, PCA_X_test"
   ]
  },
  {
   "cell_type": "code",
   "execution_count": 63,
   "metadata": {},
   "outputs": [],
   "source": [
    "x_test = StandardScaler().fit_transform(X_test.values)"
   ]
  },
  {
   "cell_type": "code",
   "execution_count": 71,
   "metadata": {},
   "outputs": [],
   "source": [
    "pca_X_train1, pca_X_test1 = refit(x_train, x_test, 17)\n",
    "pca_X_train2, pca_X_test2 = refit(x_train, x_test, 34)\n",
    "pca_X_train3, pca_X_test3 = refit(x_train, x_test, 65)"
   ]
  },
  {
   "cell_type": "code",
   "execution_count": 74,
   "metadata": {},
   "outputs": [
    {
     "data": {
      "text/plain": [
       "array([[-1.23131710e+01,  4.37528554e+00, -3.35341146e+00, ...,\n",
       "        -1.67939179e-01,  3.65327888e-01, -1.86155309e-01],\n",
       "       [-9.54576839e+00,  2.83754724e+00, -1.39011343e+00, ...,\n",
       "        -1.05129885e-01,  3.19135839e-01,  9.73877633e-02],\n",
       "       [ 5.28597625e+00, -3.13710589e+00,  1.52321460e+00, ...,\n",
       "         8.05563104e-02, -4.46466953e-01,  4.16989057e-01],\n",
       "       ...,\n",
       "       [ 3.36306355e+00, -3.11783113e+00,  2.95590741e+00, ...,\n",
       "         9.49167209e-02, -2.30763093e-01, -2.65739939e-03],\n",
       "       [ 7.79569186e+00, -5.11196530e+00,  4.95340073e+00, ...,\n",
       "         2.60848066e-01, -3.87757724e-01, -3.35466553e-02],\n",
       "       [ 7.90529247e+00, -2.94637563e+00, -3.39383910e-01, ...,\n",
       "        -7.95102300e-01, -1.22028726e-01, -1.51807678e-01]])"
      ]
     },
     "execution_count": 74,
     "metadata": {},
     "output_type": "execute_result"
    }
   ],
   "source": [
    "pca_X_train3"
   ]
  },
  {
   "cell_type": "code",
   "execution_count": 78,
   "metadata": {},
   "outputs": [
    {
     "data": {
      "text/plain": [
       "65"
      ]
     },
     "execution_count": 78,
     "metadata": {},
     "output_type": "execute_result"
    }
   ],
   "source": [
    "len(pca_X_test3[0])"
   ]
  },
  {
   "cell_type": "code",
   "execution_count": 70,
   "metadata": {},
   "outputs": [
    {
     "name": "stdout",
     "output_type": "stream",
     "text": [
      "Test Data Accuracy after PCA Transformation:  0.36601746138347885\n"
     ]
    }
   ],
   "source": [
    "# SVC keeping only 17 components\n",
    "final_svm_model = SVC(kernel = 'rbf').fit(pca_X_train1, y_train)\n",
    "final_pred_train = final_svm_model.predict(pca_X_train1)\n",
    "final_pred_test = final_svm_model.predict(pca_X_test1)\n",
    "print('Test Data Accuracy after PCA Transformation: ', accuracy_score(y_test, final_pred_test))"
   ]
  },
  {
   "cell_type": "code",
   "execution_count": 75,
   "metadata": {},
   "outputs": [
    {
     "name": "stdout",
     "output_type": "stream",
     "text": [
      "Test Data Accuracy after PCA Transformation:  0.3747481531229013\n"
     ]
    }
   ],
   "source": [
    "# SVC keeping first 34 components\n",
    "final_svm_model2 = SVC(kernel = 'rbf').fit(pca_X_train2, y_train)\n",
    "final_pred_train2 = final_svm_model2.predict(pca_X_train2)\n",
    "final_pred_test2 = final_svm_model2.predict(pca_X_test2)\n",
    "print('Test Data Accuracy after PCA Transformation: ', accuracy_score(y_test, final_pred_test2))"
   ]
  },
  {
   "cell_type": "code",
   "execution_count": 76,
   "metadata": {},
   "outputs": [
    {
     "name": "stdout",
     "output_type": "stream",
     "text": [
      "Test Data Accuracy after PCA Transformation:  0.3707186030893217\n"
     ]
    }
   ],
   "source": [
    "# SVC keeping first 65 components\n",
    "final_svm_model3 = SVC(kernel = 'rbf').fit(pca_X_train3, y_train)\n",
    "final_pred_train3 = final_svm_model3.predict(pca_X_train3)\n",
    "final_pred_test3 = final_svm_model3.predict(pca_X_test3)\n",
    "print('Test Data Accuracy after PCA Transformation: ', accuracy_score(y_test, final_pred_test3))"
   ]
  },
  {
   "cell_type": "markdown",
   "metadata": {},
   "source": [
    "Despite the slight variation in performance each time the SVM model is refit with the corresponding number of PCA components, we observed that most of the time, it is ideal to keep only the first 17 or 34 components given its boost in performance from our very baseline accuracy of 34.5% to 37.5%."
   ]
  },
  {
   "cell_type": "code",
   "execution_count": 50,
   "metadata": {},
   "outputs": [
    {
     "name": "stdout",
     "output_type": "stream",
     "text": [
      "[0.29261745 0.38791946 0.36155914 0.35752688 0.3844086  0.38172043\n",
      " 0.37096774 0.35080645 0.35483871 0.36290323]\n",
      "Average k-fold score:  0.3605268095547377\n",
      "Length of list 10\n",
      "Max of list 0.38791946308724834\n"
     ]
    }
   ],
   "source": [
    "# cross-validated SVM w/PCA\n",
    "svc_w_pca = SVC(kernel = 'rbf')\n",
    "svc_pca_scores = cross_val_score(svc_w_pca, X, y, cv = 10, scoring = 'accuracy')\n",
    "print(svc_pca_scores)\n",
    "print('Average k-fold score with RBF kernel: ', svc_pca_scores.mean())\n",
    "print('Length of list', len(svc_pca_scores)) \n",
    "print('Max of list', max(svc_pca_scores))"
   ]
  },
  {
   "cell_type": "code",
   "execution_count": 51,
   "metadata": {},
   "outputs": [
    {
     "name": "stdout",
     "output_type": "stream",
     "text": [
      "[0.29932886 0.37449664 0.34811828 0.35349462 0.3844086  0.36021505\n",
      " 0.36021505 0.3266129  0.34408602 0.37096774]\n",
      "Average k-fold score:  0.35219437829255973\n",
      "Length of list 10\n",
      "Max of list 0.3844086021505376\n"
     ]
    }
   ],
   "source": [
    "# cross-validated SVM w/PCA\n",
    "svc_w_pca2 = SVC(kernel = 'poly')\n",
    "svc_pca_scores2 = cross_val_score(svc_w_pca2, X, y, cv = 10, scoring = 'accuracy')\n",
    "print(svc_pca_scores2)\n",
    "print('Average k-fold score with poly kernel: ', svc_pca_scores2.mean())\n",
    "print('Length of list', len(svc_pca_scores2)) \n",
    "print('Max of list', max(svc_pca_scores2))"
   ]
  },
  {
   "cell_type": "markdown",
   "metadata": {},
   "source": [
    "When cross validation is performed with SVM + PCA combined, it can be seen that the new combined method with the RBF kernel still yields slightly better performance than the same with a polynomial kernel."
   ]
  },
  {
   "cell_type": "code",
   "execution_count": null,
   "metadata": {},
   "outputs": [],
   "source": []
  }
 ],
 "metadata": {
  "kernelspec": {
   "display_name": "Python 3",
   "language": "python",
   "name": "python3"
  },
  "language_info": {
   "codemirror_mode": {
    "name": "ipython",
    "version": 3
   },
   "file_extension": ".py",
   "mimetype": "text/x-python",
   "name": "python",
   "nbconvert_exporter": "python",
   "pygments_lexer": "ipython3",
   "version": "3.8.5"
  }
 },
 "nbformat": 4,
 "nbformat_minor": 2
}
